{
 "cells": [
  {
   "cell_type": "code",
   "execution_count": 1,
   "metadata": {},
   "outputs": [],
   "source": [
    "from ultralytics import YOLO\n",
    "# import torch\n",
    "# import os\n",
    "# import requests\n",
    "# import zipfile"
   ]
  },
  {
   "cell_type": "code",
   "execution_count": 2,
   "metadata": {},
   "outputs": [],
   "source": [
    "model = YOLO(\"baseline_test.pt\")"
   ]
  },
  {
   "cell_type": "code",
   "execution_count": 4,
   "metadata": {},
   "outputs": [],
   "source": [
    "for param in model.model.model.parameters():\n",
    "    param.requires_grad = False  # Freeze all layers\n",
    "\n",
    "# Unfreeze the last layer (output layer for classification)\n",
    "for param in model.model.model[-1].parameters():\n",
    "    param.requires_grad = True  "
   ]
  },
  {
   "cell_type": "code",
   "execution_count": 6,
   "metadata": {},
   "outputs": [
    {
     "name": "stdout",
     "output_type": "stream",
     "text": [
      "Ultralytics 8.3.62  Python-3.12.3 torch-2.5.1 CUDA:0 (NVIDIA GeForce RTX 4050 Laptop GPU, 6140MiB)\n",
      "\u001b[34m\u001b[1mengine\\trainer: \u001b[0mtask=detect, mode=train, model=baseline_test.pt, data=dataset.yaml, epochs=50, time=None, patience=100, batch=16, imgsz=640, save=True, save_period=-1, cache=False, device=cuda, workers=4, project=None, name=train3, exist_ok=False, pretrained=True, optimizer=auto, verbose=True, seed=0, deterministic=True, single_cls=False, rect=False, cos_lr=False, close_mosaic=10, resume=False, amp=True, fraction=1.0, profile=False, freeze=None, multi_scale=False, overlap_mask=True, mask_ratio=4, dropout=0.0, val=True, split=val, save_json=False, save_hybrid=False, conf=None, iou=0.7, max_det=300, half=False, dnn=False, plots=True, source=None, vid_stride=1, stream_buffer=False, visualize=False, augment=False, agnostic_nms=False, classes=None, retina_masks=False, embed=None, show=False, save_frames=False, save_txt=False, save_conf=False, save_crop=False, show_labels=True, show_conf=True, show_boxes=True, line_width=None, format=torchscript, keras=False, optimize=False, int8=False, dynamic=False, simplify=True, opset=None, workspace=None, nms=False, lr0=0.01, lrf=0.01, momentum=0.937, weight_decay=0.0005, warmup_epochs=3.0, warmup_momentum=0.8, warmup_bias_lr=0.1, box=7.5, cls=0.5, dfl=1.5, pose=12.0, kobj=1.0, nbs=64, hsv_h=0.015, hsv_s=0.7, hsv_v=0.4, degrees=0.0, translate=0.1, scale=0.5, shear=0.0, perspective=0.0, flipud=0.0, fliplr=0.5, bgr=0.0, mosaic=1.0, mixup=0.0, copy_paste=0.0, copy_paste_mode=flip, auto_augment=randaugment, erasing=0.4, crop_fraction=1.0, cfg=None, tracker=botsort.yaml, save_dir=runs\\detect\\train3\n",
      "Downloading https://ultralytics.com/assets/Arial.ttf to 'C:\\Users\\vimal\\AppData\\Roaming\\Ultralytics\\Arial.ttf'...\n"
     ]
    },
    {
     "name": "stderr",
     "output_type": "stream",
     "text": [
      "100%|██████████| 755k/755k [00:00<00:00, 3.40MB/s]\n"
     ]
    },
    {
     "name": "stdout",
     "output_type": "stream",
     "text": [
      "Overriding model.yaml nc=2 with nc=3\n",
      "\n",
      "                   from  n    params  module                                       arguments                     \n",
      "  0                  -1  1       464  ultralytics.nn.modules.conv.Conv             [3, 16, 3, 2]                 \n",
      "  1                  -1  1      4672  ultralytics.nn.modules.conv.Conv             [16, 32, 3, 2]                \n",
      "  2                  -1  1      7360  ultralytics.nn.modules.block.C2f             [32, 32, 1, True]             \n",
      "  3                  -1  1     18560  ultralytics.nn.modules.conv.Conv             [32, 64, 3, 2]                \n",
      "  4                  -1  2     49664  ultralytics.nn.modules.block.C2f             [64, 64, 2, True]             \n",
      "  5                  -1  1     73984  ultralytics.nn.modules.conv.Conv             [64, 128, 3, 2]               \n",
      "  6                  -1  2    197632  ultralytics.nn.modules.block.C2f             [128, 128, 2, True]           \n",
      "  7                  -1  1    295424  ultralytics.nn.modules.conv.Conv             [128, 256, 3, 2]              \n",
      "  8                  -1  1    460288  ultralytics.nn.modules.block.C2f             [256, 256, 1, True]           \n",
      "  9                  -1  1    164608  ultralytics.nn.modules.block.SPPF            [256, 256, 5]                 \n",
      " 10                  -1  1         0  torch.nn.modules.upsampling.Upsample         [None, 2, 'nearest']          \n",
      " 11             [-1, 6]  1         0  ultralytics.nn.modules.conv.Concat           [1]                           \n",
      " 12                  -1  1    148224  ultralytics.nn.modules.block.C2f             [384, 128, 1]                 \n",
      " 13                  -1  1         0  torch.nn.modules.upsampling.Upsample         [None, 2, 'nearest']          \n",
      " 14             [-1, 4]  1         0  ultralytics.nn.modules.conv.Concat           [1]                           \n",
      " 15                  -1  1     37248  ultralytics.nn.modules.block.C2f             [192, 64, 1]                  \n",
      " 16                  -1  1     36992  ultralytics.nn.modules.conv.Conv             [64, 64, 3, 2]                \n",
      " 17            [-1, 12]  1         0  ultralytics.nn.modules.conv.Concat           [1]                           \n",
      " 18                  -1  1    123648  ultralytics.nn.modules.block.C2f             [192, 128, 1]                 \n",
      " 19                  -1  1    147712  ultralytics.nn.modules.conv.Conv             [128, 128, 3, 2]              \n",
      " 20             [-1, 9]  1         0  ultralytics.nn.modules.conv.Concat           [1]                           \n",
      " 21                  -1  1    493056  ultralytics.nn.modules.block.C2f             [384, 256, 1]                 \n",
      " 22        [15, 18, 21]  1    751897  ultralytics.nn.modules.head.Detect           [3, [64, 128, 256]]           \n",
      "YOLOv8n summary: 225 layers, 3,011,433 parameters, 3,011,417 gradients\n",
      "\n",
      "Transferred 349/355 items from pretrained weights\n",
      "\u001b[34m\u001b[1mTensorBoard: \u001b[0mStart with 'tensorboard --logdir runs\\detect\\train3', view at http://localhost:6006/\n",
      "Freezing layer 'model.22.dfl.conv.weight'\n",
      "\u001b[34m\u001b[1mAMP: \u001b[0mrunning Automatic Mixed Precision (AMP) checks...\n",
      "\u001b[34m\u001b[1mAMP: \u001b[0mchecks passed \n"
     ]
    },
    {
     "name": "stderr",
     "output_type": "stream",
     "text": [
      "\u001b[34m\u001b[1mtrain: \u001b[0mScanning C:\\Users\\vimal\\OneDrive\\Documents\\Uni\\6th_Sem\\CV\\Fire-and-Smoke-Detection-WebApp\\datasets\\labels\\train... 13754 images, 0 backgrounds, 0 corrupt: 100%|██████████| 13754/13754 [00:25<00:00, 544.53it/s]\n"
     ]
    },
    {
     "name": "stdout",
     "output_type": "stream",
     "text": [
      "\u001b[34m\u001b[1mtrain: \u001b[0mNew cache created: C:\\Users\\vimal\\OneDrive\\Documents\\Uni\\6th_Sem\\CV\\Fire-and-Smoke-Detection-WebApp\\datasets\\labels\\train.cache\n"
     ]
    },
    {
     "name": "stderr",
     "output_type": "stream",
     "text": [
      "\u001b[34m\u001b[1mval: \u001b[0mScanning C:\\Users\\vimal\\OneDrive\\Documents\\Uni\\6th_Sem\\CV\\Fire-and-Smoke-Detection-WebApp\\datasets\\labels\\val... 4000 images, 0 backgrounds, 0 corrupt: 100%|██████████| 4000/4000 [00:05<00:00, 756.78it/s]\n"
     ]
    },
    {
     "name": "stdout",
     "output_type": "stream",
     "text": [
      "\u001b[34m\u001b[1mval: \u001b[0mNew cache created: C:\\Users\\vimal\\OneDrive\\Documents\\Uni\\6th_Sem\\CV\\Fire-and-Smoke-Detection-WebApp\\datasets\\labels\\val.cache\n",
      "Plotting labels to runs\\detect\\train3\\labels.jpg... \n",
      "\u001b[34m\u001b[1moptimizer:\u001b[0m 'optimizer=auto' found, ignoring 'lr0=0.01' and 'momentum=0.937' and determining best 'optimizer', 'lr0' and 'momentum' automatically... \n",
      "\u001b[34m\u001b[1moptimizer:\u001b[0m SGD(lr=0.01, momentum=0.9) with parameter groups 57 weight(decay=0.0), 64 weight(decay=0.0005), 63 bias(decay=0.0)\n",
      "\u001b[34m\u001b[1mTensorBoard: \u001b[0mmodel graph visualization added \n",
      "Image sizes 640 train, 640 val\n",
      "Using 4 dataloader workers\n",
      "Logging results to \u001b[1mruns\\detect\\train3\u001b[0m\n",
      "Starting training for 50 epochs...\n",
      "\n",
      "      Epoch    GPU_mem   box_loss   cls_loss   dfl_loss  Instances       Size\n"
     ]
    },
    {
     "name": "stderr",
     "output_type": "stream",
     "text": [
      "       1/50       3.2G      2.105      2.753       2.16         74        640: 100%|██████████| 860/860 [02:22<00:00,  6.05it/s]\n",
      "                 Class     Images  Instances      Box(P          R      mAP50  mAP50-95): 100%|██████████| 125/125 [00:25<00:00,  4.85it/s]\n"
     ]
    },
    {
     "name": "stdout",
     "output_type": "stream",
     "text": [
      "                   all       4000      16377      0.387      0.279      0.244      0.101\n",
      "\n",
      "      Epoch    GPU_mem   box_loss   cls_loss   dfl_loss  Instances       Size\n"
     ]
    },
    {
     "name": "stderr",
     "output_type": "stream",
     "text": [
      "       2/50      3.59G      1.886      2.082      1.911         98        640: 100%|██████████| 860/860 [02:30<00:00,  5.70it/s]\n",
      "                 Class     Images  Instances      Box(P          R      mAP50  mAP50-95): 100%|██████████| 125/125 [00:29<00:00,  4.31it/s]\n"
     ]
    },
    {
     "name": "stdout",
     "output_type": "stream",
     "text": [
      "                   all       4000      16377      0.465      0.326      0.323      0.146\n",
      "\n",
      "      Epoch    GPU_mem   box_loss   cls_loss   dfl_loss  Instances       Size\n"
     ]
    },
    {
     "name": "stderr",
     "output_type": "stream",
     "text": [
      "       3/50      4.13G      1.837       1.95      1.846         71        640: 100%|██████████| 860/860 [02:23<00:00,  5.98it/s]\n",
      "                 Class     Images  Instances      Box(P          R      mAP50  mAP50-95): 100%|██████████| 125/125 [00:26<00:00,  4.69it/s]\n"
     ]
    },
    {
     "name": "stdout",
     "output_type": "stream",
     "text": [
      "                   all       4000      16377      0.493      0.354      0.359      0.166\n",
      "\n",
      "      Epoch    GPU_mem   box_loss   cls_loss   dfl_loss  Instances       Size\n"
     ]
    },
    {
     "name": "stderr",
     "output_type": "stream",
     "text": [
      "       4/50      4.19G      1.794      1.882       1.81         64        640: 100%|██████████| 860/860 [02:24<00:00,  5.95it/s]\n",
      "                 Class     Images  Instances      Box(P          R      mAP50  mAP50-95): 100%|██████████| 125/125 [00:26<00:00,  4.64it/s]\n"
     ]
    },
    {
     "name": "stdout",
     "output_type": "stream",
     "text": [
      "                   all       4000      16377      0.516      0.385      0.389      0.185\n",
      "\n",
      "      Epoch    GPU_mem   box_loss   cls_loss   dfl_loss  Instances       Size\n"
     ]
    },
    {
     "name": "stderr",
     "output_type": "stream",
     "text": [
      "       5/50      4.78G      1.752       1.81      1.766         72        640: 100%|██████████| 860/860 [02:24<00:00,  5.95it/s]\n",
      "                 Class     Images  Instances      Box(P          R      mAP50  mAP50-95): 100%|██████████| 125/125 [00:28<00:00,  4.43it/s]\n"
     ]
    },
    {
     "name": "stdout",
     "output_type": "stream",
     "text": [
      "                   all       4000      16377      0.526      0.392      0.404      0.195\n",
      "\n",
      "      Epoch    GPU_mem   box_loss   cls_loss   dfl_loss  Instances       Size\n"
     ]
    },
    {
     "name": "stderr",
     "output_type": "stream",
     "text": [
      "       6/50      5.64G      1.732      1.753      1.739         78        640: 100%|██████████| 860/860 [02:24<00:00,  5.95it/s]\n",
      "                 Class     Images  Instances      Box(P          R      mAP50  mAP50-95): 100%|██████████| 125/125 [00:26<00:00,  4.64it/s]\n"
     ]
    },
    {
     "name": "stdout",
     "output_type": "stream",
     "text": [
      "                   all       4000      16377       0.55      0.402      0.423      0.208\n",
      "\n",
      "      Epoch    GPU_mem   box_loss   cls_loss   dfl_loss  Instances       Size\n"
     ]
    },
    {
     "name": "stderr",
     "output_type": "stream",
     "text": [
      "       7/50      4.25G      1.703      1.722      1.722        132        640: 100%|██████████| 860/860 [02:24<00:00,  5.94it/s]\n",
      "                 Class     Images  Instances      Box(P          R      mAP50  mAP50-95): 100%|██████████| 125/125 [00:27<00:00,  4.59it/s]\n"
     ]
    },
    {
     "name": "stdout",
     "output_type": "stream",
     "text": [
      "                   all       4000      16377      0.551      0.419      0.435      0.215\n",
      "\n",
      "      Epoch    GPU_mem   box_loss   cls_loss   dfl_loss  Instances       Size\n"
     ]
    },
    {
     "name": "stderr",
     "output_type": "stream",
     "text": [
      "       8/50      4.86G      1.682      1.684      1.701         67        640: 100%|██████████| 860/860 [02:25<00:00,  5.91it/s]\n",
      "                 Class     Images  Instances      Box(P          R      mAP50  mAP50-95): 100%|██████████| 125/125 [00:27<00:00,  4.48it/s]\n"
     ]
    },
    {
     "name": "stdout",
     "output_type": "stream",
     "text": [
      "                   all       4000      16377      0.576      0.425       0.45      0.224\n",
      "\n",
      "      Epoch    GPU_mem   box_loss   cls_loss   dfl_loss  Instances       Size\n"
     ]
    },
    {
     "name": "stderr",
     "output_type": "stream",
     "text": [
      "       9/50      3.73G      1.672      1.652       1.69         80        640: 100%|██████████| 860/860 [02:24<00:00,  5.95it/s]\n",
      "                 Class     Images  Instances      Box(P          R      mAP50  mAP50-95): 100%|██████████| 125/125 [00:27<00:00,  4.53it/s]\n"
     ]
    },
    {
     "name": "stdout",
     "output_type": "stream",
     "text": [
      "                   all       4000      16377      0.571      0.435      0.457      0.231\n",
      "\n",
      "      Epoch    GPU_mem   box_loss   cls_loss   dfl_loss  Instances       Size\n"
     ]
    },
    {
     "name": "stderr",
     "output_type": "stream",
     "text": [
      "      10/50      3.68G      1.659      1.627      1.678         45        640: 100%|██████████| 860/860 [02:25<00:00,  5.92it/s]\n",
      "                 Class     Images  Instances      Box(P          R      mAP50  mAP50-95): 100%|██████████| 125/125 [00:26<00:00,  4.65it/s]\n"
     ]
    },
    {
     "name": "stdout",
     "output_type": "stream",
     "text": [
      "                   all       4000      16377      0.566      0.446      0.465      0.237\n",
      "\n",
      "      Epoch    GPU_mem   box_loss   cls_loss   dfl_loss  Instances       Size\n"
     ]
    },
    {
     "name": "stderr",
     "output_type": "stream",
     "text": [
      "      11/50      3.85G      1.647      1.619      1.669         89        640: 100%|██████████| 860/860 [02:23<00:00,  5.97it/s]\n",
      "                 Class     Images  Instances      Box(P          R      mAP50  mAP50-95): 100%|██████████| 125/125 [00:26<00:00,  4.66it/s]\n"
     ]
    },
    {
     "name": "stdout",
     "output_type": "stream",
     "text": [
      "                   all       4000      16377      0.567      0.444      0.464      0.239\n",
      "\n",
      "      Epoch    GPU_mem   box_loss   cls_loss   dfl_loss  Instances       Size\n"
     ]
    },
    {
     "name": "stderr",
     "output_type": "stream",
     "text": [
      "      12/50      4.81G      1.641      1.611      1.659         91        640: 100%|██████████| 860/860 [02:24<00:00,  5.96it/s]\n",
      "                 Class     Images  Instances      Box(P          R      mAP50  mAP50-95): 100%|██████████| 125/125 [00:27<00:00,  4.56it/s]\n"
     ]
    },
    {
     "name": "stdout",
     "output_type": "stream",
     "text": [
      "                   all       4000      16377      0.584      0.442      0.473      0.245\n",
      "\n",
      "      Epoch    GPU_mem   box_loss   cls_loss   dfl_loss  Instances       Size\n"
     ]
    },
    {
     "name": "stderr",
     "output_type": "stream",
     "text": [
      "      13/50      3.37G      1.628       1.58      1.647         85        640: 100%|██████████| 860/860 [02:24<00:00,  5.94it/s]\n",
      "                 Class     Images  Instances      Box(P          R      mAP50  mAP50-95): 100%|██████████| 125/125 [00:26<00:00,  4.66it/s]\n"
     ]
    },
    {
     "name": "stdout",
     "output_type": "stream",
     "text": [
      "                   all       4000      16377      0.574      0.454      0.474      0.244\n",
      "\n",
      "      Epoch    GPU_mem   box_loss   cls_loss   dfl_loss  Instances       Size\n"
     ]
    },
    {
     "name": "stderr",
     "output_type": "stream",
     "text": [
      "      14/50      4.07G      1.618      1.569      1.646         98        640: 100%|██████████| 860/860 [02:23<00:00,  5.99it/s]\n",
      "                 Class     Images  Instances      Box(P          R      mAP50  mAP50-95): 100%|██████████| 125/125 [00:27<00:00,  4.63it/s]\n"
     ]
    },
    {
     "name": "stdout",
     "output_type": "stream",
     "text": [
      "                   all       4000      16377      0.594      0.457      0.483       0.25\n",
      "\n",
      "      Epoch    GPU_mem   box_loss   cls_loss   dfl_loss  Instances       Size\n"
     ]
    },
    {
     "name": "stderr",
     "output_type": "stream",
     "text": [
      "      15/50      3.61G      1.614      1.557      1.636         61        640: 100%|██████████| 860/860 [02:23<00:00,  6.00it/s]\n",
      "                 Class     Images  Instances      Box(P          R      mAP50  mAP50-95): 100%|██████████| 125/125 [00:26<00:00,  4.65it/s]\n"
     ]
    },
    {
     "name": "stdout",
     "output_type": "stream",
     "text": [
      "                   all       4000      16377      0.597      0.454       0.49      0.256\n",
      "\n",
      "      Epoch    GPU_mem   box_loss   cls_loss   dfl_loss  Instances       Size\n"
     ]
    },
    {
     "name": "stderr",
     "output_type": "stream",
     "text": [
      "      16/50      5.07G      1.598      1.538      1.622         62        640: 100%|██████████| 860/860 [02:23<00:00,  6.01it/s]\n",
      "                 Class     Images  Instances      Box(P          R      mAP50  mAP50-95): 100%|██████████| 125/125 [00:26<00:00,  4.64it/s]\n"
     ]
    },
    {
     "name": "stdout",
     "output_type": "stream",
     "text": [
      "                   all       4000      16377      0.605      0.463      0.501      0.262\n",
      "\n",
      "      Epoch    GPU_mem   box_loss   cls_loss   dfl_loss  Instances       Size\n"
     ]
    },
    {
     "name": "stderr",
     "output_type": "stream",
     "text": [
      "      17/50      3.86G      1.594      1.536      1.623         85        640: 100%|██████████| 860/860 [02:24<00:00,  5.97it/s]\n",
      "                 Class     Images  Instances      Box(P          R      mAP50  mAP50-95): 100%|██████████| 125/125 [00:26<00:00,  4.64it/s]\n"
     ]
    },
    {
     "name": "stdout",
     "output_type": "stream",
     "text": [
      "                   all       4000      16377      0.594      0.472        0.5      0.263\n",
      "\n",
      "      Epoch    GPU_mem   box_loss   cls_loss   dfl_loss  Instances       Size\n"
     ]
    },
    {
     "name": "stderr",
     "output_type": "stream",
     "text": [
      "      18/50      5.11G      1.583      1.519      1.615        150        640: 100%|██████████| 860/860 [02:23<00:00,  5.97it/s]\n",
      "                 Class     Images  Instances      Box(P          R      mAP50  mAP50-95): 100%|██████████| 125/125 [00:27<00:00,  4.60it/s]\n"
     ]
    },
    {
     "name": "stdout",
     "output_type": "stream",
     "text": [
      "                   all       4000      16377        0.6      0.476      0.506      0.266\n",
      "\n",
      "      Epoch    GPU_mem   box_loss   cls_loss   dfl_loss  Instances       Size\n"
     ]
    },
    {
     "name": "stderr",
     "output_type": "stream",
     "text": [
      "      19/50      3.86G      1.583      1.511      1.613         57        640: 100%|██████████| 860/860 [02:24<00:00,  5.96it/s]\n",
      "                 Class     Images  Instances      Box(P          R      mAP50  mAP50-95): 100%|██████████| 125/125 [00:27<00:00,  4.59it/s]\n"
     ]
    },
    {
     "name": "stdout",
     "output_type": "stream",
     "text": [
      "                   all       4000      16377      0.593       0.48      0.508      0.269\n",
      "\n",
      "      Epoch    GPU_mem   box_loss   cls_loss   dfl_loss  Instances       Size\n"
     ]
    },
    {
     "name": "stderr",
     "output_type": "stream",
     "text": [
      "      20/50      4.54G      1.577      1.499      1.602         76        640: 100%|██████████| 860/860 [02:26<00:00,  5.86it/s]\n",
      "                 Class     Images  Instances      Box(P          R      mAP50  mAP50-95): 100%|██████████| 125/125 [00:27<00:00,  4.56it/s]\n"
     ]
    },
    {
     "name": "stdout",
     "output_type": "stream",
     "text": [
      "                   all       4000      16377      0.612      0.474      0.512      0.272\n",
      "\n",
      "      Epoch    GPU_mem   box_loss   cls_loss   dfl_loss  Instances       Size\n"
     ]
    },
    {
     "name": "stderr",
     "output_type": "stream",
     "text": [
      "      21/50      4.37G      1.566      1.485      1.596        119        640: 100%|██████████| 860/860 [02:24<00:00,  5.93it/s]\n",
      "                 Class     Images  Instances      Box(P          R      mAP50  mAP50-95): 100%|██████████| 125/125 [00:27<00:00,  4.56it/s]\n"
     ]
    },
    {
     "name": "stdout",
     "output_type": "stream",
     "text": [
      "                   all       4000      16377      0.605      0.486      0.514      0.274\n",
      "\n",
      "      Epoch    GPU_mem   box_loss   cls_loss   dfl_loss  Instances       Size\n"
     ]
    },
    {
     "name": "stderr",
     "output_type": "stream",
     "text": [
      "      22/50      4.25G      1.561      1.474      1.591        117        640: 100%|██████████| 860/860 [02:25<00:00,  5.92it/s]\n",
      "                 Class     Images  Instances      Box(P          R      mAP50  mAP50-95): 100%|██████████| 125/125 [00:27<00:00,  4.56it/s]\n"
     ]
    },
    {
     "name": "stdout",
     "output_type": "stream",
     "text": [
      "                   all       4000      16377       0.61      0.485      0.514      0.274\n",
      "\n",
      "      Epoch    GPU_mem   box_loss   cls_loss   dfl_loss  Instances       Size\n"
     ]
    },
    {
     "name": "stderr",
     "output_type": "stream",
     "text": [
      "      23/50      4.38G      1.556      1.472      1.591         77        640: 100%|██████████| 860/860 [02:24<00:00,  5.93it/s]\n",
      "                 Class     Images  Instances      Box(P          R      mAP50  mAP50-95): 100%|██████████| 125/125 [00:27<00:00,  4.53it/s]\n"
     ]
    },
    {
     "name": "stdout",
     "output_type": "stream",
     "text": [
      "                   all       4000      16377      0.606      0.489      0.522      0.278\n",
      "\n",
      "      Epoch    GPU_mem   box_loss   cls_loss   dfl_loss  Instances       Size\n"
     ]
    },
    {
     "name": "stderr",
     "output_type": "stream",
     "text": [
      "      24/50      3.85G      1.552      1.469      1.581        115        640: 100%|██████████| 860/860 [02:26<00:00,  5.87it/s]\n",
      "                 Class     Images  Instances      Box(P          R      mAP50  mAP50-95): 100%|██████████| 125/125 [00:27<00:00,  4.56it/s]\n"
     ]
    },
    {
     "name": "stdout",
     "output_type": "stream",
     "text": [
      "                   all       4000      16377      0.614      0.489      0.522      0.281\n",
      "\n",
      "      Epoch    GPU_mem   box_loss   cls_loss   dfl_loss  Instances       Size\n"
     ]
    },
    {
     "name": "stderr",
     "output_type": "stream",
     "text": [
      "      25/50      3.39G      1.545      1.463      1.577         72        640: 100%|██████████| 860/860 [02:26<00:00,  5.89it/s]\n",
      "                 Class     Images  Instances      Box(P          R      mAP50  mAP50-95): 100%|██████████| 125/125 [00:27<00:00,  4.56it/s]\n"
     ]
    },
    {
     "name": "stdout",
     "output_type": "stream",
     "text": [
      "                   all       4000      16377       0.62      0.493      0.529      0.282\n",
      "\n",
      "      Epoch    GPU_mem   box_loss   cls_loss   dfl_loss  Instances       Size\n"
     ]
    },
    {
     "name": "stderr",
     "output_type": "stream",
     "text": [
      "      26/50      4.31G      1.543      1.442      1.571         70        640: 100%|██████████| 860/860 [02:25<00:00,  5.90it/s]\n",
      "                 Class     Images  Instances      Box(P          R      mAP50  mAP50-95): 100%|██████████| 125/125 [00:27<00:00,  4.60it/s]\n"
     ]
    },
    {
     "name": "stdout",
     "output_type": "stream",
     "text": [
      "                   all       4000      16377      0.616      0.489      0.529      0.284\n",
      "\n",
      "      Epoch    GPU_mem   box_loss   cls_loss   dfl_loss  Instances       Size\n"
     ]
    },
    {
     "name": "stderr",
     "output_type": "stream",
     "text": [
      "      27/50      4.31G      1.536       1.44       1.57         63        640: 100%|██████████| 860/860 [02:23<00:00,  5.97it/s]\n",
      "                 Class     Images  Instances      Box(P          R      mAP50  mAP50-95): 100%|██████████| 125/125 [00:26<00:00,  4.69it/s]\n"
     ]
    },
    {
     "name": "stdout",
     "output_type": "stream",
     "text": [
      "                   all       4000      16377      0.616      0.494      0.529      0.285\n",
      "\n",
      "      Epoch    GPU_mem   box_loss   cls_loss   dfl_loss  Instances       Size\n"
     ]
    },
    {
     "name": "stderr",
     "output_type": "stream",
     "text": [
      "      28/50      2.99G      1.532      1.426      1.566         54        640: 100%|██████████| 860/860 [02:23<00:00,  5.99it/s]\n",
      "                 Class     Images  Instances      Box(P          R      mAP50  mAP50-95): 100%|██████████| 125/125 [00:26<00:00,  4.66it/s]\n"
     ]
    },
    {
     "name": "stdout",
     "output_type": "stream",
     "text": [
      "                   all       4000      16377      0.614      0.501      0.534      0.288\n",
      "\n",
      "      Epoch    GPU_mem   box_loss   cls_loss   dfl_loss  Instances       Size\n"
     ]
    },
    {
     "name": "stderr",
     "output_type": "stream",
     "text": [
      "      29/50      3.69G      1.532      1.429       1.56         85        640: 100%|██████████| 860/860 [02:22<00:00,  6.03it/s]\n",
      "                 Class     Images  Instances      Box(P          R      mAP50  mAP50-95): 100%|██████████| 125/125 [00:26<00:00,  4.67it/s]\n"
     ]
    },
    {
     "name": "stdout",
     "output_type": "stream",
     "text": [
      "                   all       4000      16377      0.621      0.497      0.536       0.29\n",
      "\n",
      "      Epoch    GPU_mem   box_loss   cls_loss   dfl_loss  Instances       Size\n"
     ]
    },
    {
     "name": "stderr",
     "output_type": "stream",
     "text": [
      "      30/50      3.23G      1.519      1.414      1.558         76        640: 100%|██████████| 860/860 [02:21<00:00,  6.06it/s]\n",
      "                 Class     Images  Instances      Box(P          R      mAP50  mAP50-95): 100%|██████████| 125/125 [00:26<00:00,  4.67it/s]\n"
     ]
    },
    {
     "name": "stdout",
     "output_type": "stream",
     "text": [
      "                   all       4000      16377      0.626      0.499      0.539      0.292\n",
      "\n",
      "      Epoch    GPU_mem   box_loss   cls_loss   dfl_loss  Instances       Size\n"
     ]
    },
    {
     "name": "stderr",
     "output_type": "stream",
     "text": [
      "      31/50      3.21G      1.517       1.41      1.555         78        640: 100%|██████████| 860/860 [02:25<00:00,  5.92it/s]\n",
      "                 Class     Images  Instances      Box(P          R      mAP50  mAP50-95): 100%|██████████| 125/125 [00:27<00:00,  4.57it/s]\n"
     ]
    },
    {
     "name": "stdout",
     "output_type": "stream",
     "text": [
      "                   all       4000      16377      0.625      0.496      0.538      0.292\n",
      "\n",
      "      Epoch    GPU_mem   box_loss   cls_loss   dfl_loss  Instances       Size\n"
     ]
    },
    {
     "name": "stderr",
     "output_type": "stream",
     "text": [
      "      32/50       4.2G      1.513      1.397      1.549         57        640: 100%|██████████| 860/860 [02:25<00:00,  5.93it/s]\n",
      "                 Class     Images  Instances      Box(P          R      mAP50  mAP50-95): 100%|██████████| 125/125 [00:27<00:00,  4.60it/s]\n"
     ]
    },
    {
     "name": "stdout",
     "output_type": "stream",
     "text": [
      "                   all       4000      16377      0.619      0.508       0.54      0.294\n",
      "\n",
      "      Epoch    GPU_mem   box_loss   cls_loss   dfl_loss  Instances       Size\n"
     ]
    },
    {
     "name": "stderr",
     "output_type": "stream",
     "text": [
      "      33/50      3.06G      1.509      1.393      1.548         46        640: 100%|██████████| 860/860 [02:22<00:00,  6.02it/s]\n",
      "                 Class     Images  Instances      Box(P          R      mAP50  mAP50-95): 100%|██████████| 125/125 [00:26<00:00,  4.64it/s]\n"
     ]
    },
    {
     "name": "stdout",
     "output_type": "stream",
     "text": [
      "                   all       4000      16377      0.626      0.505      0.543      0.295\n",
      "\n",
      "      Epoch    GPU_mem   box_loss   cls_loss   dfl_loss  Instances       Size\n"
     ]
    },
    {
     "name": "stderr",
     "output_type": "stream",
     "text": [
      "      34/50      3.71G      1.506      1.387      1.538         64        640: 100%|██████████| 860/860 [02:31<00:00,  5.69it/s]\n",
      "                 Class     Images  Instances      Box(P          R      mAP50  mAP50-95): 100%|██████████| 125/125 [00:28<00:00,  4.46it/s]\n"
     ]
    },
    {
     "name": "stdout",
     "output_type": "stream",
     "text": [
      "                   all       4000      16377      0.632        0.5      0.542      0.294\n",
      "\n",
      "      Epoch    GPU_mem   box_loss   cls_loss   dfl_loss  Instances       Size\n"
     ]
    },
    {
     "name": "stderr",
     "output_type": "stream",
     "text": [
      "      35/50      4.27G      1.495      1.384      1.538        100        640: 100%|██████████| 860/860 [02:30<00:00,  5.73it/s]\n",
      "                 Class     Images  Instances      Box(P          R      mAP50  mAP50-95): 100%|██████████| 125/125 [00:27<00:00,  4.62it/s]\n"
     ]
    },
    {
     "name": "stdout",
     "output_type": "stream",
     "text": [
      "                   all       4000      16377      0.624      0.509      0.546      0.299\n",
      "\n",
      "      Epoch    GPU_mem   box_loss   cls_loss   dfl_loss  Instances       Size\n"
     ]
    },
    {
     "name": "stderr",
     "output_type": "stream",
     "text": [
      "      36/50       4.3G       1.49       1.37      1.531         57        640: 100%|██████████| 860/860 [02:23<00:00,  5.99it/s]\n",
      "                 Class     Images  Instances      Box(P          R      mAP50  mAP50-95): 100%|██████████| 125/125 [00:27<00:00,  4.58it/s]\n"
     ]
    },
    {
     "name": "stdout",
     "output_type": "stream",
     "text": [
      "                   all       4000      16377      0.634      0.508      0.549      0.299\n",
      "\n",
      "      Epoch    GPU_mem   box_loss   cls_loss   dfl_loss  Instances       Size\n"
     ]
    },
    {
     "name": "stderr",
     "output_type": "stream",
     "text": [
      "      37/50      3.53G       1.49      1.365      1.529         80        640: 100%|██████████| 860/860 [02:24<00:00,  5.94it/s]\n",
      "                 Class     Images  Instances      Box(P          R      mAP50  mAP50-95): 100%|██████████| 125/125 [00:27<00:00,  4.55it/s]\n"
     ]
    },
    {
     "name": "stdout",
     "output_type": "stream",
     "text": [
      "                   all       4000      16377      0.634      0.504      0.549        0.3\n",
      "\n",
      "      Epoch    GPU_mem   box_loss   cls_loss   dfl_loss  Instances       Size\n"
     ]
    },
    {
     "name": "stderr",
     "output_type": "stream",
     "text": [
      "      38/50      5.04G      1.481      1.354      1.528         74        640: 100%|██████████| 860/860 [02:28<00:00,  5.81it/s]\n",
      "                 Class     Images  Instances      Box(P          R      mAP50  mAP50-95): 100%|██████████| 125/125 [00:28<00:00,  4.46it/s]\n"
     ]
    },
    {
     "name": "stdout",
     "output_type": "stream",
     "text": [
      "                   all       4000      16377      0.641        0.5       0.55      0.301\n",
      "\n",
      "      Epoch    GPU_mem   box_loss   cls_loss   dfl_loss  Instances       Size\n"
     ]
    },
    {
     "name": "stderr",
     "output_type": "stream",
     "text": [
      "      39/50      4.49G      1.477      1.349      1.518         52        640: 100%|██████████| 860/860 [02:29<00:00,  5.74it/s]\n",
      "                 Class     Images  Instances      Box(P          R      mAP50  mAP50-95): 100%|██████████| 125/125 [00:27<00:00,  4.49it/s]\n"
     ]
    },
    {
     "name": "stdout",
     "output_type": "stream",
     "text": [
      "                   all       4000      16377      0.636      0.506       0.55      0.301\n",
      "\n",
      "      Epoch    GPU_mem   box_loss   cls_loss   dfl_loss  Instances       Size\n"
     ]
    },
    {
     "name": "stderr",
     "output_type": "stream",
     "text": [
      "      40/50      3.78G      1.477      1.344      1.516        121        640: 100%|██████████| 860/860 [02:29<00:00,  5.75it/s]\n",
      "                 Class     Images  Instances      Box(P          R      mAP50  mAP50-95): 100%|██████████| 125/125 [00:27<00:00,  4.49it/s]\n"
     ]
    },
    {
     "name": "stdout",
     "output_type": "stream",
     "text": [
      "                   all       4000      16377      0.638      0.504      0.551      0.301\n",
      "Closing dataloader mosaic\n",
      "\n",
      "      Epoch    GPU_mem   box_loss   cls_loss   dfl_loss  Instances       Size\n"
     ]
    },
    {
     "name": "stderr",
     "output_type": "stream",
     "text": [
      "      41/50      3.78G      1.497      1.302      1.544         24        640: 100%|██████████| 860/860 [02:18<00:00,  6.23it/s]\n",
      "                 Class     Images  Instances      Box(P          R      mAP50  mAP50-95): 100%|██████████| 125/125 [00:26<00:00,  4.64it/s]\n"
     ]
    },
    {
     "name": "stdout",
     "output_type": "stream",
     "text": [
      "                   all       4000      16377       0.64      0.504      0.552      0.303\n",
      "\n",
      "      Epoch    GPU_mem   box_loss   cls_loss   dfl_loss  Instances       Size\n"
     ]
    },
    {
     "name": "stderr",
     "output_type": "stream",
     "text": [
      "      42/50      4.97G      1.484      1.281      1.532         34        640: 100%|██████████| 860/860 [02:21<00:00,  6.07it/s]\n",
      "                 Class     Images  Instances      Box(P          R      mAP50  mAP50-95): 100%|██████████| 125/125 [00:27<00:00,  4.56it/s]\n"
     ]
    },
    {
     "name": "stdout",
     "output_type": "stream",
     "text": [
      "                   all       4000      16377      0.643        0.5      0.552      0.303\n",
      "\n",
      "      Epoch    GPU_mem   box_loss   cls_loss   dfl_loss  Instances       Size\n"
     ]
    },
    {
     "name": "stderr",
     "output_type": "stream",
     "text": [
      "      43/50       3.9G      1.479      1.271      1.537         24        640: 100%|██████████| 860/860 [02:21<00:00,  6.09it/s]\n",
      "                 Class     Images  Instances      Box(P          R      mAP50  mAP50-95): 100%|██████████| 125/125 [00:27<00:00,  4.54it/s]\n"
     ]
    },
    {
     "name": "stdout",
     "output_type": "stream",
     "text": [
      "                   all       4000      16377      0.639      0.506      0.553      0.303\n",
      "\n",
      "      Epoch    GPU_mem   box_loss   cls_loss   dfl_loss  Instances       Size\n"
     ]
    },
    {
     "name": "stderr",
     "output_type": "stream",
     "text": [
      "      44/50      4.47G      1.473      1.259      1.526         40        640: 100%|██████████| 860/860 [02:19<00:00,  6.18it/s]\n",
      "                 Class     Images  Instances      Box(P          R      mAP50  mAP50-95): 100%|██████████| 125/125 [00:26<00:00,  4.65it/s]\n"
     ]
    },
    {
     "name": "stdout",
     "output_type": "stream",
     "text": [
      "                   all       4000      16377      0.643      0.504      0.554      0.304\n",
      "\n",
      "      Epoch    GPU_mem   box_loss   cls_loss   dfl_loss  Instances       Size\n"
     ]
    },
    {
     "name": "stderr",
     "output_type": "stream",
     "text": [
      "      45/50      3.97G       1.47      1.255       1.52         13        640: 100%|██████████| 860/860 [02:20<00:00,  6.13it/s]\n",
      "                 Class     Images  Instances      Box(P          R      mAP50  mAP50-95): 100%|██████████| 125/125 [00:27<00:00,  4.57it/s]\n"
     ]
    },
    {
     "name": "stdout",
     "output_type": "stream",
     "text": [
      "                   all       4000      16377      0.642      0.505      0.554      0.305\n",
      "\n",
      "      Epoch    GPU_mem   box_loss   cls_loss   dfl_loss  Instances       Size\n"
     ]
    },
    {
     "name": "stderr",
     "output_type": "stream",
     "text": [
      "      46/50      4.23G      1.463      1.241       1.52         66        640: 100%|██████████| 860/860 [02:20<00:00,  6.12it/s]\n",
      "                 Class     Images  Instances      Box(P          R      mAP50  mAP50-95): 100%|██████████| 125/125 [00:27<00:00,  4.62it/s]\n"
     ]
    },
    {
     "name": "stdout",
     "output_type": "stream",
     "text": [
      "                   all       4000      16377      0.645      0.504      0.555      0.305\n",
      "\n",
      "      Epoch    GPU_mem   box_loss   cls_loss   dfl_loss  Instances       Size\n"
     ]
    },
    {
     "name": "stderr",
     "output_type": "stream",
     "text": [
      "      47/50      3.39G      1.461      1.238      1.517         70        640: 100%|██████████| 860/860 [02:20<00:00,  6.10it/s]\n",
      "                 Class     Images  Instances      Box(P          R      mAP50  mAP50-95): 100%|██████████| 125/125 [00:27<00:00,  4.61it/s]\n"
     ]
    },
    {
     "name": "stdout",
     "output_type": "stream",
     "text": [
      "                   all       4000      16377      0.644      0.507      0.556      0.305\n",
      "\n",
      "      Epoch    GPU_mem   box_loss   cls_loss   dfl_loss  Instances       Size\n"
     ]
    },
    {
     "name": "stderr",
     "output_type": "stream",
     "text": [
      "      48/50      4.23G      1.452      1.225      1.515         30        640: 100%|██████████| 860/860 [02:21<00:00,  6.10it/s]\n",
      "                 Class     Images  Instances      Box(P          R      mAP50  mAP50-95): 100%|██████████| 125/125 [00:28<00:00,  4.40it/s]\n"
     ]
    },
    {
     "name": "stdout",
     "output_type": "stream",
     "text": [
      "                   all       4000      16377      0.646      0.505      0.557      0.305\n",
      "\n",
      "      Epoch    GPU_mem   box_loss   cls_loss   dfl_loss  Instances       Size\n"
     ]
    },
    {
     "name": "stderr",
     "output_type": "stream",
     "text": [
      "      49/50       4.2G       1.45       1.22       1.51         21        640: 100%|██████████| 860/860 [02:31<00:00,  5.67it/s]\n",
      "                 Class     Images  Instances      Box(P          R      mAP50  mAP50-95): 100%|██████████| 125/125 [00:30<00:00,  4.12it/s]\n"
     ]
    },
    {
     "name": "stdout",
     "output_type": "stream",
     "text": [
      "                   all       4000      16377      0.648      0.506      0.556      0.305\n",
      "\n",
      "      Epoch    GPU_mem   box_loss   cls_loss   dfl_loss  Instances       Size\n"
     ]
    },
    {
     "name": "stderr",
     "output_type": "stream",
     "text": [
      "      50/50      4.46G      1.447      1.213      1.508         66        640: 100%|██████████| 860/860 [02:26<00:00,  5.86it/s]\n",
      "                 Class     Images  Instances      Box(P          R      mAP50  mAP50-95): 100%|██████████| 125/125 [00:28<00:00,  4.46it/s]\n"
     ]
    },
    {
     "name": "stdout",
     "output_type": "stream",
     "text": [
      "                   all       4000      16377      0.647      0.505      0.556      0.305\n",
      "\n",
      "50 epochs completed in 2.412 hours.\n",
      "Optimizer stripped from runs\\detect\\train3\\weights\\last.pt, 6.2MB\n",
      "Optimizer stripped from runs\\detect\\train3\\weights\\best.pt, 6.2MB\n",
      "\n",
      "Validating runs\\detect\\train3\\weights\\best.pt...\n",
      "Ultralytics 8.3.62  Python-3.12.3 torch-2.5.1 CUDA:0 (NVIDIA GeForce RTX 4050 Laptop GPU, 6140MiB)\n",
      "YOLOv8n summary (fused): 168 layers, 3,006,233 parameters, 0 gradients\n"
     ]
    },
    {
     "name": "stderr",
     "output_type": "stream",
     "text": [
      "                 Class     Images  Instances      Box(P          R      mAP50  mAP50-95): 100%|██████████| 125/125 [00:28<00:00,  4.36it/s]\n"
     ]
    },
    {
     "name": "stdout",
     "output_type": "stream",
     "text": [
      "                   all       4000      16377      0.645      0.507      0.556      0.305\n",
      "                 smoke       4000      16377      0.645      0.507      0.556      0.305\n",
      "Speed: 0.2ms preprocess, 1.7ms inference, 0.0ms loss, 1.1ms postprocess per image\n",
      "Results saved to \u001b[1mruns\\detect\\train3\u001b[0m\n"
     ]
    },
    {
     "data": {
      "text/plain": [
       "ultralytics.utils.metrics.DetMetrics object with attributes:\n",
       "\n",
       "ap_class_index: array([0])\n",
       "box: ultralytics.utils.metrics.Metric object\n",
       "confusion_matrix: <ultralytics.utils.metrics.ConfusionMatrix object at 0x0000019CE6982300>\n",
       "curves: ['Precision-Recall(B)', 'F1-Confidence(B)', 'Precision-Confidence(B)', 'Recall-Confidence(B)']\n",
       "curves_results: [[array([          0,    0.001001,    0.002002,    0.003003,    0.004004,    0.005005,    0.006006,    0.007007,    0.008008,    0.009009,     0.01001,    0.011011,    0.012012,    0.013013,    0.014014,    0.015015,    0.016016,    0.017017,    0.018018,    0.019019,     0.02002,    0.021021,    0.022022,    0.023023,\n",
       "          0.024024,    0.025025,    0.026026,    0.027027,    0.028028,    0.029029,     0.03003,    0.031031,    0.032032,    0.033033,    0.034034,    0.035035,    0.036036,    0.037037,    0.038038,    0.039039,     0.04004,    0.041041,    0.042042,    0.043043,    0.044044,    0.045045,    0.046046,    0.047047,\n",
       "          0.048048,    0.049049,     0.05005,    0.051051,    0.052052,    0.053053,    0.054054,    0.055055,    0.056056,    0.057057,    0.058058,    0.059059,     0.06006,    0.061061,    0.062062,    0.063063,    0.064064,    0.065065,    0.066066,    0.067067,    0.068068,    0.069069,     0.07007,    0.071071,\n",
       "          0.072072,    0.073073,    0.074074,    0.075075,    0.076076,    0.077077,    0.078078,    0.079079,     0.08008,    0.081081,    0.082082,    0.083083,    0.084084,    0.085085,    0.086086,    0.087087,    0.088088,    0.089089,     0.09009,    0.091091,    0.092092,    0.093093,    0.094094,    0.095095,\n",
       "          0.096096,    0.097097,    0.098098,    0.099099,      0.1001,      0.1011,      0.1021,      0.1031,      0.1041,     0.10511,     0.10611,     0.10711,     0.10811,     0.10911,     0.11011,     0.11111,     0.11211,     0.11311,     0.11411,     0.11512,     0.11612,     0.11712,     0.11812,     0.11912,\n",
       "           0.12012,     0.12112,     0.12212,     0.12312,     0.12412,     0.12513,     0.12613,     0.12713,     0.12813,     0.12913,     0.13013,     0.13113,     0.13213,     0.13313,     0.13413,     0.13514,     0.13614,     0.13714,     0.13814,     0.13914,     0.14014,     0.14114,     0.14214,     0.14314,\n",
       "           0.14414,     0.14515,     0.14615,     0.14715,     0.14815,     0.14915,     0.15015,     0.15115,     0.15215,     0.15315,     0.15415,     0.15516,     0.15616,     0.15716,     0.15816,     0.15916,     0.16016,     0.16116,     0.16216,     0.16316,     0.16416,     0.16517,     0.16617,     0.16717,\n",
       "           0.16817,     0.16917,     0.17017,     0.17117,     0.17217,     0.17317,     0.17417,     0.17518,     0.17618,     0.17718,     0.17818,     0.17918,     0.18018,     0.18118,     0.18218,     0.18318,     0.18418,     0.18519,     0.18619,     0.18719,     0.18819,     0.18919,     0.19019,     0.19119,\n",
       "           0.19219,     0.19319,     0.19419,      0.1952,      0.1962,      0.1972,      0.1982,      0.1992,      0.2002,      0.2012,      0.2022,      0.2032,      0.2042,     0.20521,     0.20621,     0.20721,     0.20821,     0.20921,     0.21021,     0.21121,     0.21221,     0.21321,     0.21421,     0.21522,\n",
       "           0.21622,     0.21722,     0.21822,     0.21922,     0.22022,     0.22122,     0.22222,     0.22322,     0.22422,     0.22523,     0.22623,     0.22723,     0.22823,     0.22923,     0.23023,     0.23123,     0.23223,     0.23323,     0.23423,     0.23524,     0.23624,     0.23724,     0.23824,     0.23924,\n",
       "           0.24024,     0.24124,     0.24224,     0.24324,     0.24424,     0.24525,     0.24625,     0.24725,     0.24825,     0.24925,     0.25025,     0.25125,     0.25225,     0.25325,     0.25425,     0.25526,     0.25626,     0.25726,     0.25826,     0.25926,     0.26026,     0.26126,     0.26226,     0.26326,\n",
       "           0.26426,     0.26527,     0.26627,     0.26727,     0.26827,     0.26927,     0.27027,     0.27127,     0.27227,     0.27327,     0.27427,     0.27528,     0.27628,     0.27728,     0.27828,     0.27928,     0.28028,     0.28128,     0.28228,     0.28328,     0.28428,     0.28529,     0.28629,     0.28729,\n",
       "           0.28829,     0.28929,     0.29029,     0.29129,     0.29229,     0.29329,     0.29429,      0.2953,      0.2963,      0.2973,      0.2983,      0.2993,      0.3003,      0.3013,      0.3023,      0.3033,      0.3043,     0.30531,     0.30631,     0.30731,     0.30831,     0.30931,     0.31031,     0.31131,\n",
       "           0.31231,     0.31331,     0.31431,     0.31532,     0.31632,     0.31732,     0.31832,     0.31932,     0.32032,     0.32132,     0.32232,     0.32332,     0.32432,     0.32533,     0.32633,     0.32733,     0.32833,     0.32933,     0.33033,     0.33133,     0.33233,     0.33333,     0.33433,     0.33534,\n",
       "           0.33634,     0.33734,     0.33834,     0.33934,     0.34034,     0.34134,     0.34234,     0.34334,     0.34434,     0.34535,     0.34635,     0.34735,     0.34835,     0.34935,     0.35035,     0.35135,     0.35235,     0.35335,     0.35435,     0.35536,     0.35636,     0.35736,     0.35836,     0.35936,\n",
       "           0.36036,     0.36136,     0.36236,     0.36336,     0.36436,     0.36537,     0.36637,     0.36737,     0.36837,     0.36937,     0.37037,     0.37137,     0.37237,     0.37337,     0.37437,     0.37538,     0.37638,     0.37738,     0.37838,     0.37938,     0.38038,     0.38138,     0.38238,     0.38338,\n",
       "           0.38438,     0.38539,     0.38639,     0.38739,     0.38839,     0.38939,     0.39039,     0.39139,     0.39239,     0.39339,     0.39439,      0.3954,      0.3964,      0.3974,      0.3984,      0.3994,      0.4004,      0.4014,      0.4024,      0.4034,      0.4044,     0.40541,     0.40641,     0.40741,\n",
       "           0.40841,     0.40941,     0.41041,     0.41141,     0.41241,     0.41341,     0.41441,     0.41542,     0.41642,     0.41742,     0.41842,     0.41942,     0.42042,     0.42142,     0.42242,     0.42342,     0.42442,     0.42543,     0.42643,     0.42743,     0.42843,     0.42943,     0.43043,     0.43143,\n",
       "           0.43243,     0.43343,     0.43443,     0.43544,     0.43644,     0.43744,     0.43844,     0.43944,     0.44044,     0.44144,     0.44244,     0.44344,     0.44444,     0.44545,     0.44645,     0.44745,     0.44845,     0.44945,     0.45045,     0.45145,     0.45245,     0.45345,     0.45445,     0.45546,\n",
       "           0.45646,     0.45746,     0.45846,     0.45946,     0.46046,     0.46146,     0.46246,     0.46346,     0.46446,     0.46547,     0.46647,     0.46747,     0.46847,     0.46947,     0.47047,     0.47147,     0.47247,     0.47347,     0.47447,     0.47548,     0.47648,     0.47748,     0.47848,     0.47948,\n",
       "           0.48048,     0.48148,     0.48248,     0.48348,     0.48448,     0.48549,     0.48649,     0.48749,     0.48849,     0.48949,     0.49049,     0.49149,     0.49249,     0.49349,     0.49449,      0.4955,      0.4965,      0.4975,      0.4985,      0.4995,      0.5005,      0.5015,      0.5025,      0.5035,\n",
       "            0.5045,     0.50551,     0.50651,     0.50751,     0.50851,     0.50951,     0.51051,     0.51151,     0.51251,     0.51351,     0.51451,     0.51552,     0.51652,     0.51752,     0.51852,     0.51952,     0.52052,     0.52152,     0.52252,     0.52352,     0.52452,     0.52553,     0.52653,     0.52753,\n",
       "           0.52853,     0.52953,     0.53053,     0.53153,     0.53253,     0.53353,     0.53453,     0.53554,     0.53654,     0.53754,     0.53854,     0.53954,     0.54054,     0.54154,     0.54254,     0.54354,     0.54454,     0.54555,     0.54655,     0.54755,     0.54855,     0.54955,     0.55055,     0.55155,\n",
       "           0.55255,     0.55355,     0.55455,     0.55556,     0.55656,     0.55756,     0.55856,     0.55956,     0.56056,     0.56156,     0.56256,     0.56356,     0.56456,     0.56557,     0.56657,     0.56757,     0.56857,     0.56957,     0.57057,     0.57157,     0.57257,     0.57357,     0.57457,     0.57558,\n",
       "           0.57658,     0.57758,     0.57858,     0.57958,     0.58058,     0.58158,     0.58258,     0.58358,     0.58458,     0.58559,     0.58659,     0.58759,     0.58859,     0.58959,     0.59059,     0.59159,     0.59259,     0.59359,     0.59459,      0.5956,      0.5966,      0.5976,      0.5986,      0.5996,\n",
       "            0.6006,      0.6016,      0.6026,      0.6036,      0.6046,     0.60561,     0.60661,     0.60761,     0.60861,     0.60961,     0.61061,     0.61161,     0.61261,     0.61361,     0.61461,     0.61562,     0.61662,     0.61762,     0.61862,     0.61962,     0.62062,     0.62162,     0.62262,     0.62362,\n",
       "           0.62462,     0.62563,     0.62663,     0.62763,     0.62863,     0.62963,     0.63063,     0.63163,     0.63263,     0.63363,     0.63463,     0.63564,     0.63664,     0.63764,     0.63864,     0.63964,     0.64064,     0.64164,     0.64264,     0.64364,     0.64464,     0.64565,     0.64665,     0.64765,\n",
       "           0.64865,     0.64965,     0.65065,     0.65165,     0.65265,     0.65365,     0.65465,     0.65566,     0.65666,     0.65766,     0.65866,     0.65966,     0.66066,     0.66166,     0.66266,     0.66366,     0.66466,     0.66567,     0.66667,     0.66767,     0.66867,     0.66967,     0.67067,     0.67167,\n",
       "           0.67267,     0.67367,     0.67467,     0.67568,     0.67668,     0.67768,     0.67868,     0.67968,     0.68068,     0.68168,     0.68268,     0.68368,     0.68468,     0.68569,     0.68669,     0.68769,     0.68869,     0.68969,     0.69069,     0.69169,     0.69269,     0.69369,     0.69469,      0.6957,\n",
       "            0.6967,      0.6977,      0.6987,      0.6997,      0.7007,      0.7017,      0.7027,      0.7037,      0.7047,     0.70571,     0.70671,     0.70771,     0.70871,     0.70971,     0.71071,     0.71171,     0.71271,     0.71371,     0.71471,     0.71572,     0.71672,     0.71772,     0.71872,     0.71972,\n",
       "           0.72072,     0.72172,     0.72272,     0.72372,     0.72472,     0.72573,     0.72673,     0.72773,     0.72873,     0.72973,     0.73073,     0.73173,     0.73273,     0.73373,     0.73473,     0.73574,     0.73674,     0.73774,     0.73874,     0.73974,     0.74074,     0.74174,     0.74274,     0.74374,\n",
       "           0.74474,     0.74575,     0.74675,     0.74775,     0.74875,     0.74975,     0.75075,     0.75175,     0.75275,     0.75375,     0.75475,     0.75576,     0.75676,     0.75776,     0.75876,     0.75976,     0.76076,     0.76176,     0.76276,     0.76376,     0.76476,     0.76577,     0.76677,     0.76777,\n",
       "           0.76877,     0.76977,     0.77077,     0.77177,     0.77277,     0.77377,     0.77477,     0.77578,     0.77678,     0.77778,     0.77878,     0.77978,     0.78078,     0.78178,     0.78278,     0.78378,     0.78478,     0.78579,     0.78679,     0.78779,     0.78879,     0.78979,     0.79079,     0.79179,\n",
       "           0.79279,     0.79379,     0.79479,      0.7958,      0.7968,      0.7978,      0.7988,      0.7998,      0.8008,      0.8018,      0.8028,      0.8038,      0.8048,     0.80581,     0.80681,     0.80781,     0.80881,     0.80981,     0.81081,     0.81181,     0.81281,     0.81381,     0.81481,     0.81582,\n",
       "           0.81682,     0.81782,     0.81882,     0.81982,     0.82082,     0.82182,     0.82282,     0.82382,     0.82482,     0.82583,     0.82683,     0.82783,     0.82883,     0.82983,     0.83083,     0.83183,     0.83283,     0.83383,     0.83483,     0.83584,     0.83684,     0.83784,     0.83884,     0.83984,\n",
       "           0.84084,     0.84184,     0.84284,     0.84384,     0.84484,     0.84585,     0.84685,     0.84785,     0.84885,     0.84985,     0.85085,     0.85185,     0.85285,     0.85385,     0.85485,     0.85586,     0.85686,     0.85786,     0.85886,     0.85986,     0.86086,     0.86186,     0.86286,     0.86386,\n",
       "           0.86486,     0.86587,     0.86687,     0.86787,     0.86887,     0.86987,     0.87087,     0.87187,     0.87287,     0.87387,     0.87487,     0.87588,     0.87688,     0.87788,     0.87888,     0.87988,     0.88088,     0.88188,     0.88288,     0.88388,     0.88488,     0.88589,     0.88689,     0.88789,\n",
       "           0.88889,     0.88989,     0.89089,     0.89189,     0.89289,     0.89389,     0.89489,      0.8959,      0.8969,      0.8979,      0.8989,      0.8999,      0.9009,      0.9019,      0.9029,      0.9039,      0.9049,     0.90591,     0.90691,     0.90791,     0.90891,     0.90991,     0.91091,     0.91191,\n",
       "           0.91291,     0.91391,     0.91491,     0.91592,     0.91692,     0.91792,     0.91892,     0.91992,     0.92092,     0.92192,     0.92292,     0.92392,     0.92492,     0.92593,     0.92693,     0.92793,     0.92893,     0.92993,     0.93093,     0.93193,     0.93293,     0.93393,     0.93493,     0.93594,\n",
       "           0.93694,     0.93794,     0.93894,     0.93994,     0.94094,     0.94194,     0.94294,     0.94394,     0.94494,     0.94595,     0.94695,     0.94795,     0.94895,     0.94995,     0.95095,     0.95195,     0.95295,     0.95395,     0.95495,     0.95596,     0.95696,     0.95796,     0.95896,     0.95996,\n",
       "           0.96096,     0.96196,     0.96296,     0.96396,     0.96496,     0.96597,     0.96697,     0.96797,     0.96897,     0.96997,     0.97097,     0.97197,     0.97297,     0.97397,     0.97497,     0.97598,     0.97698,     0.97798,     0.97898,     0.97998,     0.98098,     0.98198,     0.98298,     0.98398,\n",
       "           0.98498,     0.98599,     0.98699,     0.98799,     0.98899,     0.98999,     0.99099,     0.99199,     0.99299,     0.99399,     0.99499,       0.996,       0.997,       0.998,       0.999,           1]), array([[          1,           1,           1,           1,           1,           1,           1,           1,     0.99687,     0.99687,     0.99687,     0.99687,     0.99687,     0.99687,     0.99687,     0.99687,     0.99687,     0.99687,     0.99687,     0.99687,     0.99399,     0.99169,     0.99049,\n",
       "            0.99049,     0.99049,     0.99049,     0.99049,     0.99049,     0.99049,     0.99049,     0.99049,     0.99049,     0.98993,     0.98993,     0.98993,     0.98993,     0.98862,     0.98862,     0.98862,     0.98862,     0.98862,     0.98862,     0.98862,     0.98834,     0.98834,     0.98834,\n",
       "            0.98834,     0.98741,     0.98627,     0.98545,     0.98519,     0.98519,     0.98519,     0.98414,      0.9833,      0.9833,      0.9833,      0.9833,     0.98253,     0.98214,     0.98214,     0.97883,     0.97883,     0.97794,     0.97794,     0.97768,     0.97768,     0.97723,     0.97723,\n",
       "            0.97515,     0.97436,     0.97436,     0.97436,     0.97436,     0.97436,     0.97354,     0.97354,     0.97354,     0.97354,     0.97309,     0.97263,      0.9716,     0.97135,     0.97011,     0.96989,     0.96828,     0.96794,     0.96757,     0.96653,     0.96504,     0.96431,     0.96431,\n",
       "            0.96431,     0.96359,     0.96319,     0.96187,     0.96109,     0.96043,     0.96012,     0.95998,     0.95998,     0.95929,     0.95929,     0.95885,     0.95847,     0.95734,     0.95662,     0.95484,     0.95436,     0.95436,     0.95436,     0.95436,     0.95436,     0.95436,     0.95436,\n",
       "            0.95417,     0.95417,     0.95417,     0.95417,     0.95417,     0.95395,     0.95329,     0.95329,     0.95314,     0.95314,     0.95281,     0.95281,     0.95281,     0.95281,     0.95234,     0.95187,     0.95165,     0.95165,     0.95061,     0.95028,     0.94957,     0.94949,     0.94835,\n",
       "            0.94835,     0.94809,     0.94722,     0.94649,     0.94609,     0.94597,     0.94482,     0.94451,     0.94438,     0.94438,     0.94378,     0.94363,     0.94109,     0.93968,     0.93914,     0.93848,     0.93799,     0.93782,      0.9378,     0.93734,     0.93707,     0.93687,     0.93645,\n",
       "            0.93451,      0.9339,     0.93368,     0.93317,     0.93251,     0.93156,     0.93156,     0.93156,     0.93143,     0.93105,     0.93053,     0.92949,     0.92897,      0.9289,      0.9285,     0.92759,     0.92695,     0.92644,     0.92624,     0.92624,     0.92408,     0.92369,     0.92291,\n",
       "            0.92195,      0.9216,     0.92127,     0.92061,     0.91957,     0.91904,     0.91834,     0.91767,     0.91679,     0.91667,     0.91593,     0.91505,     0.91421,       0.914,      0.9131,     0.91196,     0.91134,     0.91027,     0.90956,     0.90956,     0.90899,     0.90831,     0.90826,\n",
       "            0.90797,     0.90795,     0.90717,     0.90586,     0.90586,     0.90512,     0.90466,     0.90415,     0.90376,     0.90365,     0.90282,     0.90212,     0.90113,     0.90087,     0.90074,     0.89995,     0.89985,     0.89968,     0.89968,     0.89869,     0.89853,     0.89837,     0.89733,\n",
       "            0.89703,     0.89608,     0.89574,     0.89532,     0.89404,     0.89378,     0.89296,     0.89292,     0.89229,     0.89176,     0.89176,     0.89176,     0.89151,     0.89073,     0.88988,     0.88879,      0.8882,     0.88762,     0.88756,     0.88751,     0.88678,     0.88638,     0.88587,\n",
       "            0.88576,     0.88559,     0.88551,     0.88512,     0.88512,     0.88512,     0.88311,     0.88285,     0.88284,      0.8821,     0.88172,     0.88039,     0.87991,     0.87915,     0.87798,     0.87774,     0.87674,     0.87638,     0.87616,     0.87613,     0.87493,     0.87466,     0.87422,\n",
       "            0.87399,     0.87399,     0.87254,     0.87252,     0.87168,     0.86988,     0.86927,     0.86927,     0.86927,     0.86875,     0.86739,     0.86661,     0.86629,     0.86528,     0.86414,     0.86358,      0.8633,     0.86297,      0.8624,      0.8616,     0.86112,     0.86058,     0.85983,\n",
       "             0.8597,     0.85861,     0.85781,     0.85657,     0.85626,     0.85582,     0.85529,     0.85456,     0.85392,     0.85259,     0.85171,     0.84986,     0.84884,      0.8482,     0.84803,     0.84653,     0.84644,     0.84554,     0.84482,     0.84458,     0.84409,     0.84387,     0.84329,\n",
       "            0.84329,     0.84211,      0.8416,      0.8408,     0.83988,     0.83923,      0.8384,     0.83771,     0.83694,     0.83673,     0.83648,     0.83545,     0.83529,     0.83455,     0.83343,     0.83283,     0.83116,     0.83011,     0.83011,     0.82854,     0.82797,     0.82626,     0.82553,\n",
       "             0.8255,      0.8254,     0.82437,     0.82355,     0.82355,     0.82171,     0.82097,     0.82025,     0.82015,     0.81945,     0.81848,     0.81819,     0.81712,     0.81607,     0.81512,     0.81474,     0.81372,     0.81365,     0.81269,     0.81233,     0.81175,     0.81125,     0.81048,\n",
       "            0.80896,     0.80753,     0.80614,      0.8054,     0.80462,     0.80262,     0.80172,     0.79958,     0.79824,     0.79706,     0.79615,     0.79554,     0.79454,     0.79416,     0.79299,     0.79143,      0.7904,     0.79031,     0.78947,     0.78813,     0.78686,     0.78598,     0.78493,\n",
       "            0.78419,     0.78321,     0.78182,     0.78064,     0.77886,     0.77717,     0.77592,     0.77481,     0.77363,     0.77226,     0.77127,     0.77016,     0.76909,     0.76831,     0.76739,     0.76692,     0.76589,     0.76518,     0.76402,     0.76343,     0.76249,     0.76207,     0.76124,\n",
       "            0.76078,     0.76013,     0.75963,      0.7584,     0.75623,     0.75547,     0.75488,     0.75399,     0.75236,     0.75122,     0.75065,     0.74903,     0.74722,     0.74603,     0.74485,     0.74355,     0.74101,      0.7408,     0.74005,     0.73879,     0.73825,     0.73716,      0.7362,\n",
       "            0.73469,     0.73344,     0.73237,       0.731,     0.73045,     0.72845,     0.72755,     0.72695,     0.72611,     0.72524,      0.7245,     0.72373,     0.72323,     0.72162,     0.72052,     0.71924,     0.71821,     0.71748,     0.71669,     0.71513,     0.71373,     0.71212,     0.71131,\n",
       "            0.70854,     0.70757,     0.70678,     0.70656,     0.70601,     0.70375,     0.70236,     0.70151,     0.70035,     0.69874,     0.69773,     0.69598,     0.69352,     0.69266,     0.69223,     0.69137,     0.69013,     0.68932,     0.68782,     0.68543,     0.68426,     0.68339,     0.68085,\n",
       "            0.67928,     0.67786,     0.67657,     0.67451,     0.67336,     0.67283,     0.67189,     0.66964,     0.66772,     0.66584,     0.66467,     0.66374,     0.66207,     0.66055,     0.65896,     0.65727,     0.65653,     0.65521,     0.65336,      0.6524,     0.65127,     0.64935,      0.6469,\n",
       "            0.64463,     0.64347,     0.64163,     0.64072,     0.63808,     0.63624,     0.63462,     0.63276,     0.63205,     0.63102,     0.62981,     0.62825,     0.62672,      0.6244,     0.62226,     0.62062,     0.61853,     0.61675,     0.61478,     0.61299,     0.61121,     0.60927,     0.60744,\n",
       "            0.60602,     0.60399,      0.6017,     0.59974,     0.59714,     0.59473,     0.59361,      0.5929,     0.59227,     0.59076,     0.58909,      0.5884,     0.58641,     0.58541,     0.58339,     0.58108,     0.58012,     0.57801,     0.57674,     0.57542,     0.57277,     0.57217,     0.57041,\n",
       "            0.56957,     0.56714,      0.5655,     0.56428,     0.56335,     0.56114,     0.55893,     0.55742,     0.55622,       0.553,     0.55075,     0.54904,     0.54791,     0.54681,     0.54425,     0.54185,     0.53961,     0.53591,      0.5337,     0.53175,      0.5301,      0.5287,     0.52688,\n",
       "            0.52495,     0.52197,     0.52073,     0.51844,     0.51685,     0.51392,      0.5121,     0.51087,     0.50862,     0.50723,     0.50583,     0.50462,     0.50329,     0.50143,     0.49941,     0.49797,     0.49636,     0.49402,     0.49151,     0.48915,     0.48804,     0.48692,      0.4853,\n",
       "            0.48436,     0.48298,     0.48011,     0.47842,     0.47509,     0.47173,     0.46999,     0.46801,      0.4663,     0.46487,      0.4629,     0.46081,     0.45899,     0.45696,     0.45524,     0.45344,     0.45173,     0.44941,     0.44577,     0.44378,     0.44131,     0.43923,     0.43635,\n",
       "            0.43455,     0.43211,      0.4303,     0.42877,     0.42578,       0.424,     0.42189,     0.41977,     0.41778,     0.41625,     0.41428,     0.41159,     0.40966,     0.40751,     0.40609,      0.4034,     0.40082,     0.39722,     0.39497,     0.39315,     0.39169,     0.38835,     0.38664,\n",
       "            0.38348,     0.38143,     0.37987,     0.37784,     0.37669,     0.37466,     0.37337,      0.3699,     0.36753,      0.3663,     0.36462,     0.36235,      0.3601,     0.35779,     0.35575,     0.35407,     0.35219,     0.34988,     0.34771,     0.34604,      0.3432,     0.34047,      0.3382,\n",
       "            0.33587,      0.3339,     0.33197,     0.33038,     0.32878,     0.32643,     0.32325,     0.32132,     0.31999,      0.3181,     0.31667,     0.31405,     0.31242,     0.31109,     0.30955,     0.30753,     0.30529,     0.30327,     0.30187,     0.29981,     0.29807,     0.29556,     0.29351,\n",
       "            0.29216,     0.29033,     0.28885,     0.28646,     0.28377,     0.28178,     0.28025,     0.27861,     0.27722,     0.27529,     0.27311,     0.27113,     0.26755,     0.26569,     0.26463,     0.26274,     0.26187,     0.26016,     0.25892,     0.25715,       0.255,     0.25341,      0.2516,\n",
       "            0.24986,     0.24765,     0.24633,      0.2445,     0.24344,     0.24074,     0.23881,     0.23713,     0.23651,     0.23524,     0.23316,     0.23082,     0.22901,     0.22763,      0.2261,     0.22445,     0.22271,     0.22051,     0.21882,     0.21714,       0.215,     0.21315,     0.21172,\n",
       "            0.21017,     0.20844,     0.20672,     0.20556,     0.20316,     0.20148,     0.19931,      0.1965,     0.19542,     0.19387,      0.1919,     0.19065,     0.18881,     0.18763,     0.18628,     0.18467,     0.18314,      0.1815,     0.17962,     0.17806,     0.17678,     0.17534,      0.1739,\n",
       "            0.17271,     0.17074,     0.16821,     0.16677,     0.16534,     0.16405,     0.16194,     0.16028,     0.15945,     0.15796,     0.15591,     0.15436,     0.15292,     0.15157,     0.15019,     0.14927,     0.14755,     0.14631,     0.14522,     0.14341,     0.14218,     0.14115,      0.1388,\n",
       "             0.1374,     0.13602,     0.13455,     0.13378,       0.132,     0.13097,     0.12961,     0.12834,     0.12698,     0.12535,     0.12422,      0.1231,     0.12157,     0.12047,     0.11946,     0.11868,     0.11743,     0.11577,     0.11466,     0.11357,     0.11255,     0.11171,     0.11064,\n",
       "            0.10916,     0.10827,     0.10689,     0.10622,     0.10554,      0.1039,     0.10227,     0.10115,    0.099583,    0.098241,    0.097087,    0.096285,    0.095208,    0.094183,    0.092968,    0.092069,    0.090661,     0.08904,    0.088012,    0.086157,    0.085027,    0.083565,    0.081874,\n",
       "           0.081115,    0.080267,     0.07939,    0.078217,     0.07742,    0.076748,    0.076034,    0.074816,    0.073672,    0.071868,    0.070335,     0.06893,    0.068339,    0.067437,    0.066108,    0.065144,    0.063403,    0.062479,    0.061324,    0.060714,     0.05987,    0.058918,    0.057892,\n",
       "            0.05609,    0.055254,    0.054368,    0.053421,    0.052137,    0.051099,    0.049575,    0.048346,    0.047402,    0.046289,    0.045502,    0.044179,    0.043461,    0.042407,    0.040813,    0.039493,    0.038227,    0.037112,    0.036088,     0.03475,    0.033574,    0.033238,    0.032976,\n",
       "           0.032715,    0.032453,    0.032191,     0.03193,    0.031668,    0.031406,    0.031144,    0.030883,    0.030621,    0.030359,    0.030098,    0.029836,    0.029574,    0.029312,    0.029051,    0.028789,    0.028527,    0.028265,    0.028004,    0.027742,     0.02748,    0.027219,    0.026957,\n",
       "           0.026695,    0.026433,    0.026172,     0.02591,    0.025648,    0.025387,    0.025125,    0.024863,    0.024601,     0.02434,    0.024078,    0.023816,    0.023555,    0.023293,    0.023031,    0.022769,    0.022508,    0.022246,    0.021984,    0.021723,    0.021461,    0.021199,    0.020937,\n",
       "           0.020676,    0.020414,    0.020152,    0.019891,    0.019629,    0.019367,    0.019105,    0.018844,    0.018582,     0.01832,    0.018059,    0.017797,    0.017535,    0.017273,    0.017012,     0.01675,    0.016488,    0.016226,    0.015965,    0.015703,    0.015441,     0.01518,    0.014918,\n",
       "           0.014656,    0.014394,    0.014133,    0.013871,    0.013609,    0.013348,    0.013086,    0.012824,    0.012562,    0.012301,    0.012039,    0.011777,    0.011516,    0.011254,    0.010992,     0.01073,    0.010469,    0.010207,   0.0099453,   0.0096835,   0.0094218,   0.0091601,   0.0088984,\n",
       "          0.0086367,    0.008375,   0.0081132,   0.0078515,   0.0075898,   0.0073281,   0.0070664,   0.0068047,   0.0065429,   0.0062812,   0.0060195,   0.0057578,   0.0054961,   0.0052343,   0.0049726,   0.0047109,   0.0044492,   0.0041875,   0.0039258,    0.003664,   0.0034023,   0.0031406,   0.0028789,\n",
       "          0.0026172,   0.0023555,   0.0020937,    0.001832,   0.0015703,   0.0013086,   0.0010469,  0.00078515,  0.00052343,  0.00026172,           0]]), 'Recall', 'Precision'], [array([          0,    0.001001,    0.002002,    0.003003,    0.004004,    0.005005,    0.006006,    0.007007,    0.008008,    0.009009,     0.01001,    0.011011,    0.012012,    0.013013,    0.014014,    0.015015,    0.016016,    0.017017,    0.018018,    0.019019,     0.02002,    0.021021,    0.022022,    0.023023,\n",
       "          0.024024,    0.025025,    0.026026,    0.027027,    0.028028,    0.029029,     0.03003,    0.031031,    0.032032,    0.033033,    0.034034,    0.035035,    0.036036,    0.037037,    0.038038,    0.039039,     0.04004,    0.041041,    0.042042,    0.043043,    0.044044,    0.045045,    0.046046,    0.047047,\n",
       "          0.048048,    0.049049,     0.05005,    0.051051,    0.052052,    0.053053,    0.054054,    0.055055,    0.056056,    0.057057,    0.058058,    0.059059,     0.06006,    0.061061,    0.062062,    0.063063,    0.064064,    0.065065,    0.066066,    0.067067,    0.068068,    0.069069,     0.07007,    0.071071,\n",
       "          0.072072,    0.073073,    0.074074,    0.075075,    0.076076,    0.077077,    0.078078,    0.079079,     0.08008,    0.081081,    0.082082,    0.083083,    0.084084,    0.085085,    0.086086,    0.087087,    0.088088,    0.089089,     0.09009,    0.091091,    0.092092,    0.093093,    0.094094,    0.095095,\n",
       "          0.096096,    0.097097,    0.098098,    0.099099,      0.1001,      0.1011,      0.1021,      0.1031,      0.1041,     0.10511,     0.10611,     0.10711,     0.10811,     0.10911,     0.11011,     0.11111,     0.11211,     0.11311,     0.11411,     0.11512,     0.11612,     0.11712,     0.11812,     0.11912,\n",
       "           0.12012,     0.12112,     0.12212,     0.12312,     0.12412,     0.12513,     0.12613,     0.12713,     0.12813,     0.12913,     0.13013,     0.13113,     0.13213,     0.13313,     0.13413,     0.13514,     0.13614,     0.13714,     0.13814,     0.13914,     0.14014,     0.14114,     0.14214,     0.14314,\n",
       "           0.14414,     0.14515,     0.14615,     0.14715,     0.14815,     0.14915,     0.15015,     0.15115,     0.15215,     0.15315,     0.15415,     0.15516,     0.15616,     0.15716,     0.15816,     0.15916,     0.16016,     0.16116,     0.16216,     0.16316,     0.16416,     0.16517,     0.16617,     0.16717,\n",
       "           0.16817,     0.16917,     0.17017,     0.17117,     0.17217,     0.17317,     0.17417,     0.17518,     0.17618,     0.17718,     0.17818,     0.17918,     0.18018,     0.18118,     0.18218,     0.18318,     0.18418,     0.18519,     0.18619,     0.18719,     0.18819,     0.18919,     0.19019,     0.19119,\n",
       "           0.19219,     0.19319,     0.19419,      0.1952,      0.1962,      0.1972,      0.1982,      0.1992,      0.2002,      0.2012,      0.2022,      0.2032,      0.2042,     0.20521,     0.20621,     0.20721,     0.20821,     0.20921,     0.21021,     0.21121,     0.21221,     0.21321,     0.21421,     0.21522,\n",
       "           0.21622,     0.21722,     0.21822,     0.21922,     0.22022,     0.22122,     0.22222,     0.22322,     0.22422,     0.22523,     0.22623,     0.22723,     0.22823,     0.22923,     0.23023,     0.23123,     0.23223,     0.23323,     0.23423,     0.23524,     0.23624,     0.23724,     0.23824,     0.23924,\n",
       "           0.24024,     0.24124,     0.24224,     0.24324,     0.24424,     0.24525,     0.24625,     0.24725,     0.24825,     0.24925,     0.25025,     0.25125,     0.25225,     0.25325,     0.25425,     0.25526,     0.25626,     0.25726,     0.25826,     0.25926,     0.26026,     0.26126,     0.26226,     0.26326,\n",
       "           0.26426,     0.26527,     0.26627,     0.26727,     0.26827,     0.26927,     0.27027,     0.27127,     0.27227,     0.27327,     0.27427,     0.27528,     0.27628,     0.27728,     0.27828,     0.27928,     0.28028,     0.28128,     0.28228,     0.28328,     0.28428,     0.28529,     0.28629,     0.28729,\n",
       "           0.28829,     0.28929,     0.29029,     0.29129,     0.29229,     0.29329,     0.29429,      0.2953,      0.2963,      0.2973,      0.2983,      0.2993,      0.3003,      0.3013,      0.3023,      0.3033,      0.3043,     0.30531,     0.30631,     0.30731,     0.30831,     0.30931,     0.31031,     0.31131,\n",
       "           0.31231,     0.31331,     0.31431,     0.31532,     0.31632,     0.31732,     0.31832,     0.31932,     0.32032,     0.32132,     0.32232,     0.32332,     0.32432,     0.32533,     0.32633,     0.32733,     0.32833,     0.32933,     0.33033,     0.33133,     0.33233,     0.33333,     0.33433,     0.33534,\n",
       "           0.33634,     0.33734,     0.33834,     0.33934,     0.34034,     0.34134,     0.34234,     0.34334,     0.34434,     0.34535,     0.34635,     0.34735,     0.34835,     0.34935,     0.35035,     0.35135,     0.35235,     0.35335,     0.35435,     0.35536,     0.35636,     0.35736,     0.35836,     0.35936,\n",
       "           0.36036,     0.36136,     0.36236,     0.36336,     0.36436,     0.36537,     0.36637,     0.36737,     0.36837,     0.36937,     0.37037,     0.37137,     0.37237,     0.37337,     0.37437,     0.37538,     0.37638,     0.37738,     0.37838,     0.37938,     0.38038,     0.38138,     0.38238,     0.38338,\n",
       "           0.38438,     0.38539,     0.38639,     0.38739,     0.38839,     0.38939,     0.39039,     0.39139,     0.39239,     0.39339,     0.39439,      0.3954,      0.3964,      0.3974,      0.3984,      0.3994,      0.4004,      0.4014,      0.4024,      0.4034,      0.4044,     0.40541,     0.40641,     0.40741,\n",
       "           0.40841,     0.40941,     0.41041,     0.41141,     0.41241,     0.41341,     0.41441,     0.41542,     0.41642,     0.41742,     0.41842,     0.41942,     0.42042,     0.42142,     0.42242,     0.42342,     0.42442,     0.42543,     0.42643,     0.42743,     0.42843,     0.42943,     0.43043,     0.43143,\n",
       "           0.43243,     0.43343,     0.43443,     0.43544,     0.43644,     0.43744,     0.43844,     0.43944,     0.44044,     0.44144,     0.44244,     0.44344,     0.44444,     0.44545,     0.44645,     0.44745,     0.44845,     0.44945,     0.45045,     0.45145,     0.45245,     0.45345,     0.45445,     0.45546,\n",
       "           0.45646,     0.45746,     0.45846,     0.45946,     0.46046,     0.46146,     0.46246,     0.46346,     0.46446,     0.46547,     0.46647,     0.46747,     0.46847,     0.46947,     0.47047,     0.47147,     0.47247,     0.47347,     0.47447,     0.47548,     0.47648,     0.47748,     0.47848,     0.47948,\n",
       "           0.48048,     0.48148,     0.48248,     0.48348,     0.48448,     0.48549,     0.48649,     0.48749,     0.48849,     0.48949,     0.49049,     0.49149,     0.49249,     0.49349,     0.49449,      0.4955,      0.4965,      0.4975,      0.4985,      0.4995,      0.5005,      0.5015,      0.5025,      0.5035,\n",
       "            0.5045,     0.50551,     0.50651,     0.50751,     0.50851,     0.50951,     0.51051,     0.51151,     0.51251,     0.51351,     0.51451,     0.51552,     0.51652,     0.51752,     0.51852,     0.51952,     0.52052,     0.52152,     0.52252,     0.52352,     0.52452,     0.52553,     0.52653,     0.52753,\n",
       "           0.52853,     0.52953,     0.53053,     0.53153,     0.53253,     0.53353,     0.53453,     0.53554,     0.53654,     0.53754,     0.53854,     0.53954,     0.54054,     0.54154,     0.54254,     0.54354,     0.54454,     0.54555,     0.54655,     0.54755,     0.54855,     0.54955,     0.55055,     0.55155,\n",
       "           0.55255,     0.55355,     0.55455,     0.55556,     0.55656,     0.55756,     0.55856,     0.55956,     0.56056,     0.56156,     0.56256,     0.56356,     0.56456,     0.56557,     0.56657,     0.56757,     0.56857,     0.56957,     0.57057,     0.57157,     0.57257,     0.57357,     0.57457,     0.57558,\n",
       "           0.57658,     0.57758,     0.57858,     0.57958,     0.58058,     0.58158,     0.58258,     0.58358,     0.58458,     0.58559,     0.58659,     0.58759,     0.58859,     0.58959,     0.59059,     0.59159,     0.59259,     0.59359,     0.59459,      0.5956,      0.5966,      0.5976,      0.5986,      0.5996,\n",
       "            0.6006,      0.6016,      0.6026,      0.6036,      0.6046,     0.60561,     0.60661,     0.60761,     0.60861,     0.60961,     0.61061,     0.61161,     0.61261,     0.61361,     0.61461,     0.61562,     0.61662,     0.61762,     0.61862,     0.61962,     0.62062,     0.62162,     0.62262,     0.62362,\n",
       "           0.62462,     0.62563,     0.62663,     0.62763,     0.62863,     0.62963,     0.63063,     0.63163,     0.63263,     0.63363,     0.63463,     0.63564,     0.63664,     0.63764,     0.63864,     0.63964,     0.64064,     0.64164,     0.64264,     0.64364,     0.64464,     0.64565,     0.64665,     0.64765,\n",
       "           0.64865,     0.64965,     0.65065,     0.65165,     0.65265,     0.65365,     0.65465,     0.65566,     0.65666,     0.65766,     0.65866,     0.65966,     0.66066,     0.66166,     0.66266,     0.66366,     0.66466,     0.66567,     0.66667,     0.66767,     0.66867,     0.66967,     0.67067,     0.67167,\n",
       "           0.67267,     0.67367,     0.67467,     0.67568,     0.67668,     0.67768,     0.67868,     0.67968,     0.68068,     0.68168,     0.68268,     0.68368,     0.68468,     0.68569,     0.68669,     0.68769,     0.68869,     0.68969,     0.69069,     0.69169,     0.69269,     0.69369,     0.69469,      0.6957,\n",
       "            0.6967,      0.6977,      0.6987,      0.6997,      0.7007,      0.7017,      0.7027,      0.7037,      0.7047,     0.70571,     0.70671,     0.70771,     0.70871,     0.70971,     0.71071,     0.71171,     0.71271,     0.71371,     0.71471,     0.71572,     0.71672,     0.71772,     0.71872,     0.71972,\n",
       "           0.72072,     0.72172,     0.72272,     0.72372,     0.72472,     0.72573,     0.72673,     0.72773,     0.72873,     0.72973,     0.73073,     0.73173,     0.73273,     0.73373,     0.73473,     0.73574,     0.73674,     0.73774,     0.73874,     0.73974,     0.74074,     0.74174,     0.74274,     0.74374,\n",
       "           0.74474,     0.74575,     0.74675,     0.74775,     0.74875,     0.74975,     0.75075,     0.75175,     0.75275,     0.75375,     0.75475,     0.75576,     0.75676,     0.75776,     0.75876,     0.75976,     0.76076,     0.76176,     0.76276,     0.76376,     0.76476,     0.76577,     0.76677,     0.76777,\n",
       "           0.76877,     0.76977,     0.77077,     0.77177,     0.77277,     0.77377,     0.77477,     0.77578,     0.77678,     0.77778,     0.77878,     0.77978,     0.78078,     0.78178,     0.78278,     0.78378,     0.78478,     0.78579,     0.78679,     0.78779,     0.78879,     0.78979,     0.79079,     0.79179,\n",
       "           0.79279,     0.79379,     0.79479,      0.7958,      0.7968,      0.7978,      0.7988,      0.7998,      0.8008,      0.8018,      0.8028,      0.8038,      0.8048,     0.80581,     0.80681,     0.80781,     0.80881,     0.80981,     0.81081,     0.81181,     0.81281,     0.81381,     0.81481,     0.81582,\n",
       "           0.81682,     0.81782,     0.81882,     0.81982,     0.82082,     0.82182,     0.82282,     0.82382,     0.82482,     0.82583,     0.82683,     0.82783,     0.82883,     0.82983,     0.83083,     0.83183,     0.83283,     0.83383,     0.83483,     0.83584,     0.83684,     0.83784,     0.83884,     0.83984,\n",
       "           0.84084,     0.84184,     0.84284,     0.84384,     0.84484,     0.84585,     0.84685,     0.84785,     0.84885,     0.84985,     0.85085,     0.85185,     0.85285,     0.85385,     0.85485,     0.85586,     0.85686,     0.85786,     0.85886,     0.85986,     0.86086,     0.86186,     0.86286,     0.86386,\n",
       "           0.86486,     0.86587,     0.86687,     0.86787,     0.86887,     0.86987,     0.87087,     0.87187,     0.87287,     0.87387,     0.87487,     0.87588,     0.87688,     0.87788,     0.87888,     0.87988,     0.88088,     0.88188,     0.88288,     0.88388,     0.88488,     0.88589,     0.88689,     0.88789,\n",
       "           0.88889,     0.88989,     0.89089,     0.89189,     0.89289,     0.89389,     0.89489,      0.8959,      0.8969,      0.8979,      0.8989,      0.8999,      0.9009,      0.9019,      0.9029,      0.9039,      0.9049,     0.90591,     0.90691,     0.90791,     0.90891,     0.90991,     0.91091,     0.91191,\n",
       "           0.91291,     0.91391,     0.91491,     0.91592,     0.91692,     0.91792,     0.91892,     0.91992,     0.92092,     0.92192,     0.92292,     0.92392,     0.92492,     0.92593,     0.92693,     0.92793,     0.92893,     0.92993,     0.93093,     0.93193,     0.93293,     0.93393,     0.93493,     0.93594,\n",
       "           0.93694,     0.93794,     0.93894,     0.93994,     0.94094,     0.94194,     0.94294,     0.94394,     0.94494,     0.94595,     0.94695,     0.94795,     0.94895,     0.94995,     0.95095,     0.95195,     0.95295,     0.95395,     0.95495,     0.95596,     0.95696,     0.95796,     0.95896,     0.95996,\n",
       "           0.96096,     0.96196,     0.96296,     0.96396,     0.96496,     0.96597,     0.96697,     0.96797,     0.96897,     0.96997,     0.97097,     0.97197,     0.97297,     0.97397,     0.97497,     0.97598,     0.97698,     0.97798,     0.97898,     0.97998,     0.98098,     0.98198,     0.98298,     0.98398,\n",
       "           0.98498,     0.98599,     0.98699,     0.98799,     0.98899,     0.98999,     0.99099,     0.99199,     0.99299,     0.99399,     0.99499,       0.996,       0.997,       0.998,       0.999,           1]), array([[   0.064363,    0.064363,    0.084741,     0.10124,     0.11554,     0.12852,     0.14098,       0.152,     0.16325,     0.17331,     0.18367,     0.19267,      0.2016,     0.20969,     0.21848,     0.22641,     0.23372,     0.24134,     0.24861,     0.25565,     0.26256,     0.26895,     0.27528,\n",
       "            0.28146,     0.28746,     0.29352,     0.29918,      0.3047,     0.30999,     0.31532,     0.32079,     0.32568,     0.33019,     0.33507,     0.33973,     0.34399,     0.34824,     0.35231,     0.35646,     0.36017,     0.36442,     0.36807,     0.37226,     0.37575,     0.37928,     0.38256,\n",
       "            0.38586,     0.38941,     0.39305,     0.39634,     0.39947,     0.40237,     0.40587,     0.40872,     0.41144,     0.41436,     0.41745,     0.42016,     0.42316,     0.42573,     0.42821,     0.43105,      0.4334,     0.43551,     0.43809,     0.44072,     0.44293,     0.44518,     0.44764,\n",
       "            0.44987,     0.45233,     0.45481,     0.45653,     0.45894,     0.46081,      0.4629,     0.46482,     0.46658,     0.46885,     0.47049,     0.47265,     0.47443,     0.47567,     0.47744,     0.47914,     0.48095,     0.48281,     0.48411,     0.48631,     0.48748,     0.48944,     0.49127,\n",
       "            0.49328,     0.49452,     0.49596,     0.49757,     0.49896,     0.50061,     0.50208,     0.50276,     0.50426,     0.50584,     0.50669,     0.50823,     0.50916,     0.51041,     0.51162,     0.51257,     0.51393,     0.51485,     0.51641,     0.51731,     0.51873,     0.51982,     0.52101,\n",
       "            0.52194,     0.52291,     0.52385,     0.52488,     0.52576,     0.52679,     0.52731,     0.52813,     0.52902,      0.5301,     0.53136,     0.53247,     0.53339,     0.53442,     0.53527,     0.53558,     0.53631,     0.53669,     0.53731,       0.538,     0.53877,      0.5398,     0.54049,\n",
       "            0.54092,     0.54153,     0.54192,     0.54267,     0.54276,     0.54317,     0.54359,     0.54444,     0.54504,     0.54553,     0.54628,     0.54673,     0.54741,     0.54784,     0.54838,     0.54908,      0.5497,      0.5501,     0.55042,     0.55092,     0.55127,     0.55166,     0.55221,\n",
       "            0.55322,     0.55366,     0.55439,     0.55471,     0.55544,     0.55604,     0.55612,     0.55618,      0.5568,     0.55719,     0.55779,     0.55818,     0.55847,     0.55873,     0.55918,     0.55976,     0.55999,     0.55973,     0.55987,     0.56032,     0.56079,     0.56095,     0.56112,\n",
       "            0.56104,     0.56131,     0.56155,     0.56161,     0.56186,     0.56224,     0.56222,     0.56259,     0.56314,     0.56314,     0.56333,     0.56334,     0.56325,     0.56354,     0.56323,     0.56312,     0.56304,     0.56349,     0.56364,     0.56414,     0.56419,     0.56456,     0.56474,\n",
       "             0.5648,     0.56516,     0.56528,     0.56554,      0.5657,     0.56577,     0.56595,     0.56616,     0.56628,      0.5665,     0.56668,     0.56675,     0.56682,      0.5672,     0.56707,      0.5676,      0.5676,     0.56748,     0.56756,     0.56741,     0.56735,     0.56681,      0.5669,\n",
       "            0.56695,     0.56707,     0.56727,     0.56741,     0.56766,     0.56736,     0.56753,     0.56769,     0.56742,     0.56748,     0.56775,     0.56785,     0.56792,     0.56789,     0.56777,     0.56741,     0.56747,     0.56753,     0.56735,     0.56705,     0.56701,     0.56678,     0.56685,\n",
       "            0.56669,     0.56679,     0.56638,     0.56627,     0.56618,     0.56619,     0.56623,     0.56629,     0.56625,     0.56618,     0.56578,      0.5657,     0.56541,     0.56525,     0.56516,     0.56486,     0.56471,     0.56494,     0.56475,      0.5645,     0.56429,     0.56422,     0.56437,\n",
       "            0.56431,     0.56399,     0.56374,     0.56342,     0.56303,     0.56266,     0.56208,     0.56193,       0.562,     0.56198,     0.56198,     0.56158,     0.56144,     0.56119,     0.56082,     0.56059,      0.5604,     0.56027,     0.55982,      0.5592,     0.55876,     0.55865,     0.55823,\n",
       "            0.55819,     0.55765,     0.55749,     0.55752,     0.55726,     0.55703,     0.55698,     0.55679,     0.55618,     0.55559,     0.55542,     0.55517,     0.55509,      0.5545,     0.55434,     0.55407,     0.55364,     0.55324,      0.5529,     0.55241,     0.55198,     0.55163,     0.55104,\n",
       "            0.55099,     0.55043,     0.55008,     0.54976,     0.54964,     0.54929,     0.54924,     0.54893,     0.54829,     0.54816,     0.54789,     0.54755,     0.54715,     0.54666,     0.54597,     0.54555,     0.54502,     0.54452,     0.54445,     0.54455,     0.54418,     0.54349,     0.54328,\n",
       "            0.54307,     0.54284,     0.54273,     0.54235,      0.5424,     0.54142,     0.54101,     0.54079,     0.54049,     0.54009,     0.53946,     0.53894,     0.53899,     0.53884,     0.53831,     0.53754,     0.53707,     0.53636,     0.53575,     0.53543,     0.53495,     0.53425,     0.53387,\n",
       "            0.53325,     0.53273,     0.53195,     0.53158,     0.53098,     0.53073,      0.5302,     0.52977,     0.52927,     0.52869,     0.52854,     0.52838,      0.5275,     0.52714,     0.52681,      0.5265,     0.52607,     0.52576,      0.5254,     0.52497,     0.52478,     0.52464,     0.52398,\n",
       "            0.52379,     0.52345,     0.52286,     0.52246,     0.52225,     0.52197,     0.52156,     0.52119,     0.52089,     0.52026,     0.51993,     0.51944,     0.51901,     0.51839,     0.51774,      0.5171,      0.5162,     0.51595,     0.51553,      0.5148,     0.51433,     0.51379,     0.51338,\n",
       "            0.51266,     0.51232,     0.51166,     0.51088,     0.51072,     0.51063,      0.5103,     0.51001,     0.50948,     0.50832,     0.50763,     0.50736,     0.50689,     0.50667,     0.50609,     0.50565,     0.50559,     0.50476,     0.50432,     0.50341,     0.50284,     0.50202,     0.50152,\n",
       "            0.50042,     0.49968,     0.49881,      0.4983,     0.49764,     0.49719,     0.49635,     0.49558,     0.49516,     0.49485,     0.49429,      0.4936,     0.49267,     0.49166,     0.49123,      0.4907,     0.48972,       0.489,      0.4885,     0.48767,      0.4868,     0.48592,     0.48504,\n",
       "             0.4846,      0.4842,     0.48354,     0.48319,      0.4823,     0.48138,     0.48101,     0.48037,     0.48016,     0.47922,     0.47872,     0.47776,     0.47674,     0.47579,     0.47527,      0.4745,     0.47358,     0.47316,     0.47235,     0.47124,     0.46989,     0.46925,     0.46824,\n",
       "            0.46767,     0.46649,     0.46581,     0.46467,     0.46392,     0.46323,     0.46231,     0.46151,      0.4609,     0.45997,     0.45931,     0.45802,     0.45704,     0.45608,     0.45523,     0.45445,     0.45408,     0.45333,     0.45257,     0.45206,     0.45144,     0.45059,     0.44999,\n",
       "            0.44912,     0.44797,     0.44747,     0.44678,     0.44608,     0.44537,     0.44446,     0.44372,     0.44265,     0.44199,      0.4414,     0.43989,      0.4392,     0.43826,     0.43673,     0.43581,     0.43471,     0.43404,     0.43333,     0.43298,     0.43223,     0.43127,      0.4305,\n",
       "            0.42974,     0.42878,      0.4278,     0.42626,     0.42559,     0.42471,     0.42458,      0.4236,     0.42257,     0.42155,     0.42088,     0.41983,     0.41912,      0.4183,     0.41764,     0.41657,      0.4161,     0.41567,     0.41465,     0.41348,     0.41259,     0.41166,      0.4104,\n",
       "            0.40971,     0.40892,     0.40793,     0.40733,     0.40671,     0.40525,     0.40456,     0.40386,     0.40326,      0.4019,      0.4009,     0.40043,     0.39863,     0.39747,     0.39648,     0.39524,     0.39456,     0.39408,      0.3932,     0.39222,     0.39103,     0.38978,     0.38928,\n",
       "            0.38814,     0.38696,     0.38618,     0.38531,     0.38467,      0.3837,     0.38274,     0.38197,     0.38106,     0.37961,     0.37793,     0.37707,      0.3761,     0.37515,     0.37403,     0.37289,     0.37173,     0.37066,     0.36978,      0.3689,     0.36761,     0.36566,     0.36474,\n",
       "            0.36408,     0.36335,     0.36243,     0.36139,     0.36064,     0.35916,     0.35752,     0.35631,     0.35514,     0.35341,       0.352,     0.35136,     0.35081,     0.35006,     0.34924,     0.34797,      0.3464,     0.34562,     0.34488,     0.34386,      0.3423,     0.34133,     0.33985,\n",
       "            0.33929,       0.338,     0.33714,      0.3364,     0.33535,     0.33434,     0.33349,     0.33246,     0.33074,      0.3297,     0.32891,      0.3274,     0.32629,     0.32568,     0.32473,     0.32316,     0.32253,     0.32169,     0.32091,     0.31879,     0.31738,     0.31692,     0.31593,\n",
       "            0.31483,     0.31392,     0.31303,     0.31205,     0.31125,     0.30899,     0.30781,     0.30696,     0.30611,     0.30486,     0.30412,     0.30337,     0.30258,     0.30169,     0.29958,     0.29856,     0.29765,     0.29638,     0.29484,     0.29337,     0.29233,     0.29141,     0.29025,\n",
       "               0.29,     0.28879,     0.28804,     0.28591,     0.28468,     0.28301,     0.28158,      0.2809,     0.28012,      0.2789,     0.27665,     0.27562,     0.27493,      0.2724,     0.27149,     0.27036,     0.26963,     0.26895,       0.268,     0.26718,     0.26525,     0.26418,     0.26333,\n",
       "            0.26262,     0.26128,     0.26065,     0.25819,     0.25703,     0.25609,     0.25491,     0.25335,     0.25051,      0.2494,     0.24688,     0.24616,     0.24477,       0.244,     0.24301,     0.24119,     0.24017,     0.23881,     0.23773,      0.2367,     0.23528,     0.23387,     0.23254,\n",
       "             0.2314,      0.2294,     0.22732,     0.22623,     0.22442,     0.22327,     0.22044,     0.21933,     0.21696,     0.21543,     0.21405,     0.21271,     0.21112,     0.21032,     0.20884,     0.20636,     0.20539,      0.2042,     0.20329,     0.20098,     0.20026,     0.19975,     0.19848,\n",
       "            0.19588,     0.19506,     0.19376,     0.19179,     0.18978,     0.18887,     0.18756,     0.18667,     0.18503,     0.18481,     0.18328,     0.18063,      0.1796,     0.17828,     0.17632,     0.17509,     0.17415,     0.17229,     0.17184,     0.17084,     0.16883,     0.16699,      0.1651,\n",
       "            0.16352,     0.16159,     0.16038,     0.15894,       0.158,     0.15597,     0.15557,     0.15447,     0.15287,     0.15223,     0.14997,     0.14922,     0.14753,      0.1457,     0.14442,     0.14256,     0.14125,     0.13998,     0.13841,     0.13735,     0.13439,     0.13227,     0.13094,\n",
       "            0.12918,     0.12817,     0.12652,     0.12541,      0.1232,     0.12198,     0.12007,     0.11864,     0.11662,     0.11508,      0.1136,     0.11282,     0.11153,     0.11119,     0.11011,     0.10831,      0.1065,     0.10469,     0.10255,     0.10123,     0.10014,    0.098256,    0.096884,\n",
       "           0.094929,    0.093397,    0.092152,    0.090934,    0.089788,     0.08859,    0.087056,    0.085341,    0.083543,    0.081448,    0.080956,      0.0787,    0.077505,    0.076207,    0.075411,    0.072917,    0.071775,    0.070407,    0.068818,    0.068427,    0.066983,     0.06538,    0.063109,\n",
       "           0.062279,    0.060212,    0.058597,    0.057095,    0.056146,    0.054661,    0.053846,    0.052221,    0.050593,    0.049246,    0.048607,    0.046391,    0.044753,    0.043465,    0.042058,    0.040882,    0.039615,     0.03851,    0.038285,    0.037694,    0.036512,    0.035329,    0.033671,\n",
       "           0.032839,    0.031533,    0.029988,    0.029508,     0.02879,    0.027241,    0.026165,    0.025445,    0.024606,    0.022573,    0.021253,    0.020051,    0.018488,    0.017162,    0.016213,    0.015709,    0.015342,    0.014494,    0.013646,    0.012796,    0.011825,    0.010853,    0.010364,\n",
       "          0.0098587,   0.0091424,   0.0085311,   0.0080947,   0.0077922,   0.0068766,   0.0066309,   0.0063189,   0.0058272,   0.0053354,   0.0049648,   0.0044905,   0.0042233,   0.0040588,   0.0035984,   0.0034751,   0.0027386,    0.001806,   0.0017227,    0.001483,   0.0013273,   0.0012856,    0.001244,\n",
       "          0.0011113,  0.00097986,  0.00073308,  0.00060859,  0.00052519,  0.00047284,  0.00044503,  0.00041723,  0.00038942,  0.00035576,  0.00029319,  0.00023927,  0.00021652,  0.00019376,  0.00017101,  0.00014825,  0.00012549,           0,           0,           0,           0,           0,           0,\n",
       "                  0,           0,           0,           0,           0,           0,           0,           0,           0,           0,           0,           0,           0,           0,           0,           0,           0,           0,           0,           0,           0,           0,           0,\n",
       "                  0,           0,           0,           0,           0,           0,           0,           0,           0,           0,           0,           0,           0,           0,           0,           0,           0,           0,           0,           0,           0,           0,           0,\n",
       "                  0,           0,           0,           0,           0,           0,           0,           0,           0,           0,           0,           0,           0,           0,           0,           0,           0,           0,           0,           0,           0,           0,           0,\n",
       "                  0,           0,           0,           0,           0,           0,           0,           0,           0,           0,           0]]), 'Confidence', 'F1'], [array([          0,    0.001001,    0.002002,    0.003003,    0.004004,    0.005005,    0.006006,    0.007007,    0.008008,    0.009009,     0.01001,    0.011011,    0.012012,    0.013013,    0.014014,    0.015015,    0.016016,    0.017017,    0.018018,    0.019019,     0.02002,    0.021021,    0.022022,    0.023023,\n",
       "          0.024024,    0.025025,    0.026026,    0.027027,    0.028028,    0.029029,     0.03003,    0.031031,    0.032032,    0.033033,    0.034034,    0.035035,    0.036036,    0.037037,    0.038038,    0.039039,     0.04004,    0.041041,    0.042042,    0.043043,    0.044044,    0.045045,    0.046046,    0.047047,\n",
       "          0.048048,    0.049049,     0.05005,    0.051051,    0.052052,    0.053053,    0.054054,    0.055055,    0.056056,    0.057057,    0.058058,    0.059059,     0.06006,    0.061061,    0.062062,    0.063063,    0.064064,    0.065065,    0.066066,    0.067067,    0.068068,    0.069069,     0.07007,    0.071071,\n",
       "          0.072072,    0.073073,    0.074074,    0.075075,    0.076076,    0.077077,    0.078078,    0.079079,     0.08008,    0.081081,    0.082082,    0.083083,    0.084084,    0.085085,    0.086086,    0.087087,    0.088088,    0.089089,     0.09009,    0.091091,    0.092092,    0.093093,    0.094094,    0.095095,\n",
       "          0.096096,    0.097097,    0.098098,    0.099099,      0.1001,      0.1011,      0.1021,      0.1031,      0.1041,     0.10511,     0.10611,     0.10711,     0.10811,     0.10911,     0.11011,     0.11111,     0.11211,     0.11311,     0.11411,     0.11512,     0.11612,     0.11712,     0.11812,     0.11912,\n",
       "           0.12012,     0.12112,     0.12212,     0.12312,     0.12412,     0.12513,     0.12613,     0.12713,     0.12813,     0.12913,     0.13013,     0.13113,     0.13213,     0.13313,     0.13413,     0.13514,     0.13614,     0.13714,     0.13814,     0.13914,     0.14014,     0.14114,     0.14214,     0.14314,\n",
       "           0.14414,     0.14515,     0.14615,     0.14715,     0.14815,     0.14915,     0.15015,     0.15115,     0.15215,     0.15315,     0.15415,     0.15516,     0.15616,     0.15716,     0.15816,     0.15916,     0.16016,     0.16116,     0.16216,     0.16316,     0.16416,     0.16517,     0.16617,     0.16717,\n",
       "           0.16817,     0.16917,     0.17017,     0.17117,     0.17217,     0.17317,     0.17417,     0.17518,     0.17618,     0.17718,     0.17818,     0.17918,     0.18018,     0.18118,     0.18218,     0.18318,     0.18418,     0.18519,     0.18619,     0.18719,     0.18819,     0.18919,     0.19019,     0.19119,\n",
       "           0.19219,     0.19319,     0.19419,      0.1952,      0.1962,      0.1972,      0.1982,      0.1992,      0.2002,      0.2012,      0.2022,      0.2032,      0.2042,     0.20521,     0.20621,     0.20721,     0.20821,     0.20921,     0.21021,     0.21121,     0.21221,     0.21321,     0.21421,     0.21522,\n",
       "           0.21622,     0.21722,     0.21822,     0.21922,     0.22022,     0.22122,     0.22222,     0.22322,     0.22422,     0.22523,     0.22623,     0.22723,     0.22823,     0.22923,     0.23023,     0.23123,     0.23223,     0.23323,     0.23423,     0.23524,     0.23624,     0.23724,     0.23824,     0.23924,\n",
       "           0.24024,     0.24124,     0.24224,     0.24324,     0.24424,     0.24525,     0.24625,     0.24725,     0.24825,     0.24925,     0.25025,     0.25125,     0.25225,     0.25325,     0.25425,     0.25526,     0.25626,     0.25726,     0.25826,     0.25926,     0.26026,     0.26126,     0.26226,     0.26326,\n",
       "           0.26426,     0.26527,     0.26627,     0.26727,     0.26827,     0.26927,     0.27027,     0.27127,     0.27227,     0.27327,     0.27427,     0.27528,     0.27628,     0.27728,     0.27828,     0.27928,     0.28028,     0.28128,     0.28228,     0.28328,     0.28428,     0.28529,     0.28629,     0.28729,\n",
       "           0.28829,     0.28929,     0.29029,     0.29129,     0.29229,     0.29329,     0.29429,      0.2953,      0.2963,      0.2973,      0.2983,      0.2993,      0.3003,      0.3013,      0.3023,      0.3033,      0.3043,     0.30531,     0.30631,     0.30731,     0.30831,     0.30931,     0.31031,     0.31131,\n",
       "           0.31231,     0.31331,     0.31431,     0.31532,     0.31632,     0.31732,     0.31832,     0.31932,     0.32032,     0.32132,     0.32232,     0.32332,     0.32432,     0.32533,     0.32633,     0.32733,     0.32833,     0.32933,     0.33033,     0.33133,     0.33233,     0.33333,     0.33433,     0.33534,\n",
       "           0.33634,     0.33734,     0.33834,     0.33934,     0.34034,     0.34134,     0.34234,     0.34334,     0.34434,     0.34535,     0.34635,     0.34735,     0.34835,     0.34935,     0.35035,     0.35135,     0.35235,     0.35335,     0.35435,     0.35536,     0.35636,     0.35736,     0.35836,     0.35936,\n",
       "           0.36036,     0.36136,     0.36236,     0.36336,     0.36436,     0.36537,     0.36637,     0.36737,     0.36837,     0.36937,     0.37037,     0.37137,     0.37237,     0.37337,     0.37437,     0.37538,     0.37638,     0.37738,     0.37838,     0.37938,     0.38038,     0.38138,     0.38238,     0.38338,\n",
       "           0.38438,     0.38539,     0.38639,     0.38739,     0.38839,     0.38939,     0.39039,     0.39139,     0.39239,     0.39339,     0.39439,      0.3954,      0.3964,      0.3974,      0.3984,      0.3994,      0.4004,      0.4014,      0.4024,      0.4034,      0.4044,     0.40541,     0.40641,     0.40741,\n",
       "           0.40841,     0.40941,     0.41041,     0.41141,     0.41241,     0.41341,     0.41441,     0.41542,     0.41642,     0.41742,     0.41842,     0.41942,     0.42042,     0.42142,     0.42242,     0.42342,     0.42442,     0.42543,     0.42643,     0.42743,     0.42843,     0.42943,     0.43043,     0.43143,\n",
       "           0.43243,     0.43343,     0.43443,     0.43544,     0.43644,     0.43744,     0.43844,     0.43944,     0.44044,     0.44144,     0.44244,     0.44344,     0.44444,     0.44545,     0.44645,     0.44745,     0.44845,     0.44945,     0.45045,     0.45145,     0.45245,     0.45345,     0.45445,     0.45546,\n",
       "           0.45646,     0.45746,     0.45846,     0.45946,     0.46046,     0.46146,     0.46246,     0.46346,     0.46446,     0.46547,     0.46647,     0.46747,     0.46847,     0.46947,     0.47047,     0.47147,     0.47247,     0.47347,     0.47447,     0.47548,     0.47648,     0.47748,     0.47848,     0.47948,\n",
       "           0.48048,     0.48148,     0.48248,     0.48348,     0.48448,     0.48549,     0.48649,     0.48749,     0.48849,     0.48949,     0.49049,     0.49149,     0.49249,     0.49349,     0.49449,      0.4955,      0.4965,      0.4975,      0.4985,      0.4995,      0.5005,      0.5015,      0.5025,      0.5035,\n",
       "            0.5045,     0.50551,     0.50651,     0.50751,     0.50851,     0.50951,     0.51051,     0.51151,     0.51251,     0.51351,     0.51451,     0.51552,     0.51652,     0.51752,     0.51852,     0.51952,     0.52052,     0.52152,     0.52252,     0.52352,     0.52452,     0.52553,     0.52653,     0.52753,\n",
       "           0.52853,     0.52953,     0.53053,     0.53153,     0.53253,     0.53353,     0.53453,     0.53554,     0.53654,     0.53754,     0.53854,     0.53954,     0.54054,     0.54154,     0.54254,     0.54354,     0.54454,     0.54555,     0.54655,     0.54755,     0.54855,     0.54955,     0.55055,     0.55155,\n",
       "           0.55255,     0.55355,     0.55455,     0.55556,     0.55656,     0.55756,     0.55856,     0.55956,     0.56056,     0.56156,     0.56256,     0.56356,     0.56456,     0.56557,     0.56657,     0.56757,     0.56857,     0.56957,     0.57057,     0.57157,     0.57257,     0.57357,     0.57457,     0.57558,\n",
       "           0.57658,     0.57758,     0.57858,     0.57958,     0.58058,     0.58158,     0.58258,     0.58358,     0.58458,     0.58559,     0.58659,     0.58759,     0.58859,     0.58959,     0.59059,     0.59159,     0.59259,     0.59359,     0.59459,      0.5956,      0.5966,      0.5976,      0.5986,      0.5996,\n",
       "            0.6006,      0.6016,      0.6026,      0.6036,      0.6046,     0.60561,     0.60661,     0.60761,     0.60861,     0.60961,     0.61061,     0.61161,     0.61261,     0.61361,     0.61461,     0.61562,     0.61662,     0.61762,     0.61862,     0.61962,     0.62062,     0.62162,     0.62262,     0.62362,\n",
       "           0.62462,     0.62563,     0.62663,     0.62763,     0.62863,     0.62963,     0.63063,     0.63163,     0.63263,     0.63363,     0.63463,     0.63564,     0.63664,     0.63764,     0.63864,     0.63964,     0.64064,     0.64164,     0.64264,     0.64364,     0.64464,     0.64565,     0.64665,     0.64765,\n",
       "           0.64865,     0.64965,     0.65065,     0.65165,     0.65265,     0.65365,     0.65465,     0.65566,     0.65666,     0.65766,     0.65866,     0.65966,     0.66066,     0.66166,     0.66266,     0.66366,     0.66466,     0.66567,     0.66667,     0.66767,     0.66867,     0.66967,     0.67067,     0.67167,\n",
       "           0.67267,     0.67367,     0.67467,     0.67568,     0.67668,     0.67768,     0.67868,     0.67968,     0.68068,     0.68168,     0.68268,     0.68368,     0.68468,     0.68569,     0.68669,     0.68769,     0.68869,     0.68969,     0.69069,     0.69169,     0.69269,     0.69369,     0.69469,      0.6957,\n",
       "            0.6967,      0.6977,      0.6987,      0.6997,      0.7007,      0.7017,      0.7027,      0.7037,      0.7047,     0.70571,     0.70671,     0.70771,     0.70871,     0.70971,     0.71071,     0.71171,     0.71271,     0.71371,     0.71471,     0.71572,     0.71672,     0.71772,     0.71872,     0.71972,\n",
       "           0.72072,     0.72172,     0.72272,     0.72372,     0.72472,     0.72573,     0.72673,     0.72773,     0.72873,     0.72973,     0.73073,     0.73173,     0.73273,     0.73373,     0.73473,     0.73574,     0.73674,     0.73774,     0.73874,     0.73974,     0.74074,     0.74174,     0.74274,     0.74374,\n",
       "           0.74474,     0.74575,     0.74675,     0.74775,     0.74875,     0.74975,     0.75075,     0.75175,     0.75275,     0.75375,     0.75475,     0.75576,     0.75676,     0.75776,     0.75876,     0.75976,     0.76076,     0.76176,     0.76276,     0.76376,     0.76476,     0.76577,     0.76677,     0.76777,\n",
       "           0.76877,     0.76977,     0.77077,     0.77177,     0.77277,     0.77377,     0.77477,     0.77578,     0.77678,     0.77778,     0.77878,     0.77978,     0.78078,     0.78178,     0.78278,     0.78378,     0.78478,     0.78579,     0.78679,     0.78779,     0.78879,     0.78979,     0.79079,     0.79179,\n",
       "           0.79279,     0.79379,     0.79479,      0.7958,      0.7968,      0.7978,      0.7988,      0.7998,      0.8008,      0.8018,      0.8028,      0.8038,      0.8048,     0.80581,     0.80681,     0.80781,     0.80881,     0.80981,     0.81081,     0.81181,     0.81281,     0.81381,     0.81481,     0.81582,\n",
       "           0.81682,     0.81782,     0.81882,     0.81982,     0.82082,     0.82182,     0.82282,     0.82382,     0.82482,     0.82583,     0.82683,     0.82783,     0.82883,     0.82983,     0.83083,     0.83183,     0.83283,     0.83383,     0.83483,     0.83584,     0.83684,     0.83784,     0.83884,     0.83984,\n",
       "           0.84084,     0.84184,     0.84284,     0.84384,     0.84484,     0.84585,     0.84685,     0.84785,     0.84885,     0.84985,     0.85085,     0.85185,     0.85285,     0.85385,     0.85485,     0.85586,     0.85686,     0.85786,     0.85886,     0.85986,     0.86086,     0.86186,     0.86286,     0.86386,\n",
       "           0.86486,     0.86587,     0.86687,     0.86787,     0.86887,     0.86987,     0.87087,     0.87187,     0.87287,     0.87387,     0.87487,     0.87588,     0.87688,     0.87788,     0.87888,     0.87988,     0.88088,     0.88188,     0.88288,     0.88388,     0.88488,     0.88589,     0.88689,     0.88789,\n",
       "           0.88889,     0.88989,     0.89089,     0.89189,     0.89289,     0.89389,     0.89489,      0.8959,      0.8969,      0.8979,      0.8989,      0.8999,      0.9009,      0.9019,      0.9029,      0.9039,      0.9049,     0.90591,     0.90691,     0.90791,     0.90891,     0.90991,     0.91091,     0.91191,\n",
       "           0.91291,     0.91391,     0.91491,     0.91592,     0.91692,     0.91792,     0.91892,     0.91992,     0.92092,     0.92192,     0.92292,     0.92392,     0.92492,     0.92593,     0.92693,     0.92793,     0.92893,     0.92993,     0.93093,     0.93193,     0.93293,     0.93393,     0.93493,     0.93594,\n",
       "           0.93694,     0.93794,     0.93894,     0.93994,     0.94094,     0.94194,     0.94294,     0.94394,     0.94494,     0.94595,     0.94695,     0.94795,     0.94895,     0.94995,     0.95095,     0.95195,     0.95295,     0.95395,     0.95495,     0.95596,     0.95696,     0.95796,     0.95896,     0.95996,\n",
       "           0.96096,     0.96196,     0.96296,     0.96396,     0.96496,     0.96597,     0.96697,     0.96797,     0.96897,     0.96997,     0.97097,     0.97197,     0.97297,     0.97397,     0.97497,     0.97598,     0.97698,     0.97798,     0.97898,     0.97998,     0.98098,     0.98198,     0.98298,     0.98398,\n",
       "           0.98498,     0.98599,     0.98699,     0.98799,     0.98899,     0.98999,     0.99099,     0.99199,     0.99299,     0.99399,     0.99499,       0.996,       0.997,       0.998,       0.999,           1]), array([[   0.033414,    0.033414,    0.044559,    0.053805,    0.062004,    0.069588,    0.077003,    0.083694,    0.090629,    0.096952,     0.10356,     0.10942,     0.11532,     0.12077,     0.12674,     0.13224,     0.13737,     0.14277,     0.14804,     0.15321,     0.15832,     0.16315,     0.16798,\n",
       "            0.17273,     0.17746,     0.18226,     0.18686,     0.19137,     0.19575,     0.20019,     0.20477,     0.20898,     0.21294,      0.2172,     0.22134,     0.22518,     0.22909,     0.23281,     0.23675,     0.24027,      0.2443,     0.24789,     0.25193,     0.25543,     0.25895,     0.26236,\n",
       "            0.26581,     0.26942,     0.27314,     0.27658,        0.28,     0.28316,     0.28687,     0.29002,     0.29309,     0.29641,     0.29988,     0.30304,     0.30651,      0.3095,     0.31259,     0.31595,     0.31884,     0.32157,     0.32469,     0.32788,     0.33072,      0.3336,     0.33677,\n",
       "            0.33965,     0.34277,     0.34594,      0.3483,      0.3515,     0.35408,     0.35704,     0.35964,     0.36215,     0.36531,     0.36791,     0.37088,     0.37332,     0.37538,     0.37811,     0.38075,     0.38356,     0.38626,     0.38838,     0.39132,     0.39351,     0.39661,     0.39938,\n",
       "            0.40236,     0.40455,     0.40699,     0.40959,     0.41196,     0.41469,     0.41719,     0.41875,     0.42139,      0.4241,     0.42574,     0.42838,     0.43011,     0.43251,      0.4347,     0.43677,     0.43897,     0.44083,     0.44367,     0.44541,      0.4479,     0.44998,     0.45237,\n",
       "            0.45434,     0.45655,      0.4584,     0.46081,      0.4627,     0.46518,     0.46669,     0.46845,     0.47041,     0.47263,     0.47529,     0.47734,     0.47933,     0.48193,     0.48371,     0.48538,     0.48717,     0.48889,     0.49037,     0.49209,     0.49391,     0.49649,     0.49828,\n",
       "            0.49984,     0.50132,      0.5028,     0.50458,     0.50588,     0.50745,     0.50898,      0.5114,     0.51318,     0.51471,     0.51649,     0.51808,     0.51999,     0.52151,     0.52319,     0.52493,     0.52655,     0.52814,      0.5297,     0.53149,     0.53261,     0.53423,     0.53593,\n",
       "            0.53811,     0.53976,     0.54165,     0.54314,     0.54518,     0.54713,     0.54797,     0.54933,     0.55122,     0.55281,     0.55458,     0.55632,     0.55737,     0.55887,     0.56063,     0.56273,     0.56364,     0.56442,     0.56566,     0.56749,     0.56871,      0.5704,     0.57193,\n",
       "            0.57256,     0.57432,     0.57597,     0.57718,     0.57815,     0.57988,     0.58178,     0.58286,      0.5851,     0.58659,     0.58751,     0.58889,     0.58995,     0.59111,     0.59249,     0.59313,     0.59469,     0.59644,     0.59746,     0.59922,     0.60011,      0.6021,     0.60308,\n",
       "            0.60439,      0.6065,     0.60765,     0.60957,      0.6105,     0.61245,     0.61349,     0.61523,      0.6162,     0.61807,     0.61917,     0.62135,     0.62239,     0.62432,       0.625,      0.6271,       0.628,     0.62894,     0.62992,     0.63073,     0.63183,      0.6328,     0.63376,\n",
       "            0.63502,     0.63608,     0.63743,     0.63932,     0.64034,     0.64131,     0.64282,     0.64462,     0.64529,     0.64615,     0.64834,     0.64927,     0.65092,     0.65154,     0.65235,     0.65337,     0.65426,     0.65515,     0.65667,     0.65712,     0.65872,     0.65941,     0.66072,\n",
       "            0.66219,     0.66367,     0.66408,     0.66574,     0.66639,     0.66756,     0.66954,     0.67029,     0.67195,     0.67278,     0.67316,     0.67411,     0.67552,     0.67634,      0.6776,      0.6793,     0.68044,     0.68183,     0.68349,     0.68412,     0.68462,     0.68575,     0.68771,\n",
       "             0.6888,     0.68934,     0.69016,     0.69131,     0.69186,     0.69222,     0.69346,     0.69433,      0.6952,      0.6963,      0.6982,     0.69885,     0.69986,     0.70064,     0.70195,      0.7028,     0.70355,     0.70469,      0.7065,     0.70664,     0.70717,     0.70789,      0.7084,\n",
       "            0.71125,       0.712,     0.71258,     0.71371,     0.71513,     0.71577,     0.71667,     0.71732,     0.71773,     0.71869,      0.7192,     0.71965,      0.7205,     0.72201,     0.72272,     0.72339,     0.72407,     0.72448,      0.7248,     0.72554,      0.7265,     0.72695,     0.72762,\n",
       "            0.72842,     0.72897,      0.7304,     0.73094,     0.73177,     0.73214,     0.73316,     0.73341,     0.73472,     0.73565,     0.73628,     0.73708,      0.7377,     0.73839,     0.73892,     0.74041,     0.74068,     0.74128,     0.74214,     0.74343,     0.74457,      0.7459,     0.74622,\n",
       "            0.74695,     0.74782,       0.749,     0.74946,     0.75036,     0.75182,     0.75256,     0.75347,     0.75412,     0.75483,     0.75535,     0.75606,     0.75727,     0.75788,     0.75838,     0.75959,     0.76019,     0.76079,     0.76109,      0.7617,     0.76247,     0.76266,     0.76342,\n",
       "            0.76383,     0.76468,      0.7658,     0.76659,     0.76671,     0.76728,     0.76804,     0.76864,     0.76897,     0.76984,     0.77059,     0.77124,     0.77197,     0.77254,     0.77321,     0.77413,     0.77485,      0.7755,     0.77662,     0.77709,     0.77824,     0.77871,     0.78061,\n",
       "            0.78146,      0.7826,     0.78286,     0.78354,     0.78388,     0.78449,     0.78483,     0.78524,      0.7859,     0.78638,     0.78732,     0.78815,     0.78914,     0.78966,      0.7902,     0.79028,     0.79236,     0.79326,      0.7939,     0.79421,     0.79466,     0.79554,     0.79601,\n",
       "            0.79622,     0.79702,     0.79781,     0.79877,     0.80016,     0.80165,     0.80207,     0.80255,     0.80329,     0.80525,     0.80556,     0.80622,     0.80674,     0.80802,     0.80887,     0.80959,      0.8104,     0.81087,     0.81137,     0.81181,      0.8125,     0.81263,     0.81361,\n",
       "            0.81368,      0.8148,      0.8151,     0.81584,     0.81641,     0.81727,     0.81812,     0.81845,     0.81881,     0.81934,     0.81987,     0.82003,      0.8202,     0.82121,     0.82148,     0.82259,     0.82352,     0.82423,     0.82493,     0.82539,     0.82527,     0.82549,     0.82622,\n",
       "            0.82684,     0.82788,     0.82849,     0.82955,     0.82986,     0.82978,     0.83099,     0.83184,     0.83281,     0.83352,     0.83428,     0.83522,     0.83517,     0.83579,     0.83644,     0.83676,     0.83689,     0.83746,     0.83826,     0.83883,     0.83994,     0.84069,     0.84157,\n",
       "            0.84199,     0.84257,      0.8432,     0.84369,     0.84391,     0.84442,     0.84473,     0.84456,     0.84524,     0.84556,     0.84636,     0.84712,     0.84817,     0.84835,     0.84904,     0.84997,     0.85105,     0.85208,     0.85276,     0.85381,     0.85414,     0.85467,     0.85515,\n",
       "            0.85577,     0.85565,     0.85621,     0.85653,     0.85738,     0.85802,      0.8587,     0.85973,     0.85979,     0.86043,     0.86109,     0.86144,     0.86238,      0.8625,      0.8633,     0.86358,      0.8641,     0.86477,      0.8656,     0.86622,     0.86627,     0.86686,     0.86736,\n",
       "            0.86776,     0.86898,     0.86908,     0.86903,     0.86964,     0.86981,     0.87129,     0.87192,     0.87245,     0.87275,     0.87391,     0.87364,     0.87397,     0.87419,     0.87462,     0.87486,     0.87543,     0.87611,     0.87605,     0.87622,     0.87659,      0.8773,     0.87756,\n",
       "            0.87784,     0.87911,     0.87945,     0.87979,     0.88011,     0.88172,     0.88202,     0.88232,     0.88283,     0.88266,     0.88287,     0.88468,     0.88472,     0.88489,      0.8853,     0.88545,     0.88523,     0.88562,     0.88571,     0.88632,      0.8863,     0.88721,     0.88742,\n",
       "            0.88724,     0.88743,     0.88792,     0.88823,     0.88859,     0.88943,     0.89049,     0.89112,      0.8915,     0.89143,     0.89129,     0.89181,      0.8921,     0.89259,     0.89284,     0.89288,     0.89373,     0.89461,     0.89515,     0.89569,     0.89591,     0.89717,     0.89782,\n",
       "            0.89825,     0.89835,     0.89849,     0.89871,     0.89965,     0.89962,     0.89976,     0.89975,     0.90056,     0.90112,     0.90135,     0.90227,     0.90232,     0.90299,     0.90364,      0.9037,     0.90414,     0.90436,     0.90459,     0.90497,     0.90566,      0.9056,      0.9075,\n",
       "            0.90758,     0.90766,     0.90811,     0.90813,     0.90797,     0.90824,     0.90895,     0.90937,     0.90935,     0.90996,     0.91028,     0.91157,     0.91224,     0.91307,     0.91381,     0.91386,     0.91496,     0.91496,     0.91578,     0.91647,      0.9166,     0.91727,     0.91776,\n",
       "            0.91825,     0.91853,     0.91908,     0.91961,     0.92047,     0.92149,     0.92171,     0.92175,     0.92272,     0.92332,     0.92349,     0.92384,     0.92505,     0.92622,     0.92596,     0.92627,      0.9269,     0.92744,      0.9285,     0.92871,     0.92873,     0.92939,     0.92908,\n",
       "            0.93044,     0.93074,     0.93094,     0.93131,      0.9313,     0.93117,     0.93142,     0.93246,     0.93291,     0.93294,     0.93332,     0.93403,      0.9345,     0.93683,      0.9366,     0.93732,     0.93713,     0.93696,     0.93774,     0.93753,     0.93773,     0.93815,     0.93879,\n",
       "            0.93906,     0.93916,     0.93935,     0.94266,     0.94347,     0.94361,     0.94406,     0.94405,     0.94429,     0.94535,     0.94589,     0.94649,     0.94621,     0.94714,     0.94808,     0.94805,     0.94821,     0.94884,     0.94924,     0.94941,     0.94959,     0.95039,     0.95091,\n",
       "            0.95148,     0.95139,     0.95267,     0.95243,     0.95245,     0.95218,     0.95153,     0.95304,     0.95249,     0.95304,     0.95317,     0.95378,     0.95387,     0.95369,     0.95381,     0.95369,     0.95394,     0.95414,     0.95392,     0.95336,     0.95318,     0.95348,     0.95323,\n",
       "            0.95359,     0.95389,     0.95356,     0.95618,     0.95727,     0.95705,     0.95834,     0.95867,     0.95883,     0.95878,     0.95897,     0.95945,     0.95921,     0.96003,     0.96014,     0.96101,     0.96079,     0.96153,     0.96246,     0.96353,     0.96374,     0.96394,     0.96414,\n",
       "             0.9644,     0.96591,     0.96727,     0.96792,     0.96772,     0.96929,      0.9694,     0.96966,     0.97002,     0.97128,     0.97153,     0.97209,     0.97247,     0.97284,     0.97333,     0.97297,      0.9727,     0.97321,     0.97367,     0.97424,     0.97364,     0.97401,     0.97374,\n",
       "            0.97504,     0.97484,     0.97707,     0.97686,     0.97731,     0.97707,      0.9776,     0.97732,     0.97879,      0.9785,      0.9821,     0.98197,     0.98175,     0.98169,     0.98251,     0.98324,     0.98294,     0.98264,     0.98226,     0.98313,     0.98517,     0.98488,     0.98466,\n",
       "            0.98433,     0.98527,     0.98507,     0.98735,     0.98718,     0.98829,     0.98807,     0.98783,     0.98756,     0.98723,     0.98856,     0.98822,     0.98803,     0.98782,     0.98769,     0.98726,     0.98705,      0.9868,     0.98983,     0.98977,     0.98954,     0.98928,     0.98888,\n",
       "            0.98873,     0.99026,     0.98999,     0.98972,     0.98954,     0.98925,     0.98909,     0.98874,     0.98838,     0.98805,      0.9879,     0.98731,     0.98684,     0.98913,     0.99155,      0.9913,     0.99174,     0.99382,     0.99378,     0.99683,     0.99673,     0.99662,     0.99645,\n",
       "            0.99636,      0.9962,       0.996,     0.99594,     0.99584,      0.9956,     0.99542,     0.99528,     0.99512,     0.99468,     0.99435,     0.99401,      0.9935,       0.993,     0.99258,     0.99235,     0.99216,      0.9917,           1,           1,           1,           1,           1,\n",
       "                  1,           1,           1,           1,           1,           1,           1,           1,           1,           1,           1,           1,           1,           1,           1,           1,           1,           1,           1,           1,           1,           1,           1,\n",
       "                  1,           1,           1,           1,           1,           1,           1,           1,           1,           1,           1,           1,           1,           1,           1,           1,           1,           1,           1,           1,           1,           1,           1,\n",
       "                  1,           1,           1,           1,           1,           1,           1,           1,           1,           1,           1,           1,           1,           1,           1,           1,           1,           1,           1,           1,           1,           1,           1,\n",
       "                  1,           1,           1,           1,           1,           1,           1,           1,           1,           1,           1,           1,           1,           1,           1,           1,           1,           1,           1,           1,           1,           1,           1,\n",
       "                  1,           1,           1,           1,           1,           1,           1,           1,           1,           1,           1,           1,           1,           1,           1,           1,           1,           1,           1,           1,           1,           1,           1,\n",
       "                  1,           1,           1,           1,           1,           1,           1,           1,           1,           1,           1]]), 'Confidence', 'Precision'], [array([          0,    0.001001,    0.002002,    0.003003,    0.004004,    0.005005,    0.006006,    0.007007,    0.008008,    0.009009,     0.01001,    0.011011,    0.012012,    0.013013,    0.014014,    0.015015,    0.016016,    0.017017,    0.018018,    0.019019,     0.02002,    0.021021,    0.022022,    0.023023,\n",
       "          0.024024,    0.025025,    0.026026,    0.027027,    0.028028,    0.029029,     0.03003,    0.031031,    0.032032,    0.033033,    0.034034,    0.035035,    0.036036,    0.037037,    0.038038,    0.039039,     0.04004,    0.041041,    0.042042,    0.043043,    0.044044,    0.045045,    0.046046,    0.047047,\n",
       "          0.048048,    0.049049,     0.05005,    0.051051,    0.052052,    0.053053,    0.054054,    0.055055,    0.056056,    0.057057,    0.058058,    0.059059,     0.06006,    0.061061,    0.062062,    0.063063,    0.064064,    0.065065,    0.066066,    0.067067,    0.068068,    0.069069,     0.07007,    0.071071,\n",
       "          0.072072,    0.073073,    0.074074,    0.075075,    0.076076,    0.077077,    0.078078,    0.079079,     0.08008,    0.081081,    0.082082,    0.083083,    0.084084,    0.085085,    0.086086,    0.087087,    0.088088,    0.089089,     0.09009,    0.091091,    0.092092,    0.093093,    0.094094,    0.095095,\n",
       "          0.096096,    0.097097,    0.098098,    0.099099,      0.1001,      0.1011,      0.1021,      0.1031,      0.1041,     0.10511,     0.10611,     0.10711,     0.10811,     0.10911,     0.11011,     0.11111,     0.11211,     0.11311,     0.11411,     0.11512,     0.11612,     0.11712,     0.11812,     0.11912,\n",
       "           0.12012,     0.12112,     0.12212,     0.12312,     0.12412,     0.12513,     0.12613,     0.12713,     0.12813,     0.12913,     0.13013,     0.13113,     0.13213,     0.13313,     0.13413,     0.13514,     0.13614,     0.13714,     0.13814,     0.13914,     0.14014,     0.14114,     0.14214,     0.14314,\n",
       "           0.14414,     0.14515,     0.14615,     0.14715,     0.14815,     0.14915,     0.15015,     0.15115,     0.15215,     0.15315,     0.15415,     0.15516,     0.15616,     0.15716,     0.15816,     0.15916,     0.16016,     0.16116,     0.16216,     0.16316,     0.16416,     0.16517,     0.16617,     0.16717,\n",
       "           0.16817,     0.16917,     0.17017,     0.17117,     0.17217,     0.17317,     0.17417,     0.17518,     0.17618,     0.17718,     0.17818,     0.17918,     0.18018,     0.18118,     0.18218,     0.18318,     0.18418,     0.18519,     0.18619,     0.18719,     0.18819,     0.18919,     0.19019,     0.19119,\n",
       "           0.19219,     0.19319,     0.19419,      0.1952,      0.1962,      0.1972,      0.1982,      0.1992,      0.2002,      0.2012,      0.2022,      0.2032,      0.2042,     0.20521,     0.20621,     0.20721,     0.20821,     0.20921,     0.21021,     0.21121,     0.21221,     0.21321,     0.21421,     0.21522,\n",
       "           0.21622,     0.21722,     0.21822,     0.21922,     0.22022,     0.22122,     0.22222,     0.22322,     0.22422,     0.22523,     0.22623,     0.22723,     0.22823,     0.22923,     0.23023,     0.23123,     0.23223,     0.23323,     0.23423,     0.23524,     0.23624,     0.23724,     0.23824,     0.23924,\n",
       "           0.24024,     0.24124,     0.24224,     0.24324,     0.24424,     0.24525,     0.24625,     0.24725,     0.24825,     0.24925,     0.25025,     0.25125,     0.25225,     0.25325,     0.25425,     0.25526,     0.25626,     0.25726,     0.25826,     0.25926,     0.26026,     0.26126,     0.26226,     0.26326,\n",
       "           0.26426,     0.26527,     0.26627,     0.26727,     0.26827,     0.26927,     0.27027,     0.27127,     0.27227,     0.27327,     0.27427,     0.27528,     0.27628,     0.27728,     0.27828,     0.27928,     0.28028,     0.28128,     0.28228,     0.28328,     0.28428,     0.28529,     0.28629,     0.28729,\n",
       "           0.28829,     0.28929,     0.29029,     0.29129,     0.29229,     0.29329,     0.29429,      0.2953,      0.2963,      0.2973,      0.2983,      0.2993,      0.3003,      0.3013,      0.3023,      0.3033,      0.3043,     0.30531,     0.30631,     0.30731,     0.30831,     0.30931,     0.31031,     0.31131,\n",
       "           0.31231,     0.31331,     0.31431,     0.31532,     0.31632,     0.31732,     0.31832,     0.31932,     0.32032,     0.32132,     0.32232,     0.32332,     0.32432,     0.32533,     0.32633,     0.32733,     0.32833,     0.32933,     0.33033,     0.33133,     0.33233,     0.33333,     0.33433,     0.33534,\n",
       "           0.33634,     0.33734,     0.33834,     0.33934,     0.34034,     0.34134,     0.34234,     0.34334,     0.34434,     0.34535,     0.34635,     0.34735,     0.34835,     0.34935,     0.35035,     0.35135,     0.35235,     0.35335,     0.35435,     0.35536,     0.35636,     0.35736,     0.35836,     0.35936,\n",
       "           0.36036,     0.36136,     0.36236,     0.36336,     0.36436,     0.36537,     0.36637,     0.36737,     0.36837,     0.36937,     0.37037,     0.37137,     0.37237,     0.37337,     0.37437,     0.37538,     0.37638,     0.37738,     0.37838,     0.37938,     0.38038,     0.38138,     0.38238,     0.38338,\n",
       "           0.38438,     0.38539,     0.38639,     0.38739,     0.38839,     0.38939,     0.39039,     0.39139,     0.39239,     0.39339,     0.39439,      0.3954,      0.3964,      0.3974,      0.3984,      0.3994,      0.4004,      0.4014,      0.4024,      0.4034,      0.4044,     0.40541,     0.40641,     0.40741,\n",
       "           0.40841,     0.40941,     0.41041,     0.41141,     0.41241,     0.41341,     0.41441,     0.41542,     0.41642,     0.41742,     0.41842,     0.41942,     0.42042,     0.42142,     0.42242,     0.42342,     0.42442,     0.42543,     0.42643,     0.42743,     0.42843,     0.42943,     0.43043,     0.43143,\n",
       "           0.43243,     0.43343,     0.43443,     0.43544,     0.43644,     0.43744,     0.43844,     0.43944,     0.44044,     0.44144,     0.44244,     0.44344,     0.44444,     0.44545,     0.44645,     0.44745,     0.44845,     0.44945,     0.45045,     0.45145,     0.45245,     0.45345,     0.45445,     0.45546,\n",
       "           0.45646,     0.45746,     0.45846,     0.45946,     0.46046,     0.46146,     0.46246,     0.46346,     0.46446,     0.46547,     0.46647,     0.46747,     0.46847,     0.46947,     0.47047,     0.47147,     0.47247,     0.47347,     0.47447,     0.47548,     0.47648,     0.47748,     0.47848,     0.47948,\n",
       "           0.48048,     0.48148,     0.48248,     0.48348,     0.48448,     0.48549,     0.48649,     0.48749,     0.48849,     0.48949,     0.49049,     0.49149,     0.49249,     0.49349,     0.49449,      0.4955,      0.4965,      0.4975,      0.4985,      0.4995,      0.5005,      0.5015,      0.5025,      0.5035,\n",
       "            0.5045,     0.50551,     0.50651,     0.50751,     0.50851,     0.50951,     0.51051,     0.51151,     0.51251,     0.51351,     0.51451,     0.51552,     0.51652,     0.51752,     0.51852,     0.51952,     0.52052,     0.52152,     0.52252,     0.52352,     0.52452,     0.52553,     0.52653,     0.52753,\n",
       "           0.52853,     0.52953,     0.53053,     0.53153,     0.53253,     0.53353,     0.53453,     0.53554,     0.53654,     0.53754,     0.53854,     0.53954,     0.54054,     0.54154,     0.54254,     0.54354,     0.54454,     0.54555,     0.54655,     0.54755,     0.54855,     0.54955,     0.55055,     0.55155,\n",
       "           0.55255,     0.55355,     0.55455,     0.55556,     0.55656,     0.55756,     0.55856,     0.55956,     0.56056,     0.56156,     0.56256,     0.56356,     0.56456,     0.56557,     0.56657,     0.56757,     0.56857,     0.56957,     0.57057,     0.57157,     0.57257,     0.57357,     0.57457,     0.57558,\n",
       "           0.57658,     0.57758,     0.57858,     0.57958,     0.58058,     0.58158,     0.58258,     0.58358,     0.58458,     0.58559,     0.58659,     0.58759,     0.58859,     0.58959,     0.59059,     0.59159,     0.59259,     0.59359,     0.59459,      0.5956,      0.5966,      0.5976,      0.5986,      0.5996,\n",
       "            0.6006,      0.6016,      0.6026,      0.6036,      0.6046,     0.60561,     0.60661,     0.60761,     0.60861,     0.60961,     0.61061,     0.61161,     0.61261,     0.61361,     0.61461,     0.61562,     0.61662,     0.61762,     0.61862,     0.61962,     0.62062,     0.62162,     0.62262,     0.62362,\n",
       "           0.62462,     0.62563,     0.62663,     0.62763,     0.62863,     0.62963,     0.63063,     0.63163,     0.63263,     0.63363,     0.63463,     0.63564,     0.63664,     0.63764,     0.63864,     0.63964,     0.64064,     0.64164,     0.64264,     0.64364,     0.64464,     0.64565,     0.64665,     0.64765,\n",
       "           0.64865,     0.64965,     0.65065,     0.65165,     0.65265,     0.65365,     0.65465,     0.65566,     0.65666,     0.65766,     0.65866,     0.65966,     0.66066,     0.66166,     0.66266,     0.66366,     0.66466,     0.66567,     0.66667,     0.66767,     0.66867,     0.66967,     0.67067,     0.67167,\n",
       "           0.67267,     0.67367,     0.67467,     0.67568,     0.67668,     0.67768,     0.67868,     0.67968,     0.68068,     0.68168,     0.68268,     0.68368,     0.68468,     0.68569,     0.68669,     0.68769,     0.68869,     0.68969,     0.69069,     0.69169,     0.69269,     0.69369,     0.69469,      0.6957,\n",
       "            0.6967,      0.6977,      0.6987,      0.6997,      0.7007,      0.7017,      0.7027,      0.7037,      0.7047,     0.70571,     0.70671,     0.70771,     0.70871,     0.70971,     0.71071,     0.71171,     0.71271,     0.71371,     0.71471,     0.71572,     0.71672,     0.71772,     0.71872,     0.71972,\n",
       "           0.72072,     0.72172,     0.72272,     0.72372,     0.72472,     0.72573,     0.72673,     0.72773,     0.72873,     0.72973,     0.73073,     0.73173,     0.73273,     0.73373,     0.73473,     0.73574,     0.73674,     0.73774,     0.73874,     0.73974,     0.74074,     0.74174,     0.74274,     0.74374,\n",
       "           0.74474,     0.74575,     0.74675,     0.74775,     0.74875,     0.74975,     0.75075,     0.75175,     0.75275,     0.75375,     0.75475,     0.75576,     0.75676,     0.75776,     0.75876,     0.75976,     0.76076,     0.76176,     0.76276,     0.76376,     0.76476,     0.76577,     0.76677,     0.76777,\n",
       "           0.76877,     0.76977,     0.77077,     0.77177,     0.77277,     0.77377,     0.77477,     0.77578,     0.77678,     0.77778,     0.77878,     0.77978,     0.78078,     0.78178,     0.78278,     0.78378,     0.78478,     0.78579,     0.78679,     0.78779,     0.78879,     0.78979,     0.79079,     0.79179,\n",
       "           0.79279,     0.79379,     0.79479,      0.7958,      0.7968,      0.7978,      0.7988,      0.7998,      0.8008,      0.8018,      0.8028,      0.8038,      0.8048,     0.80581,     0.80681,     0.80781,     0.80881,     0.80981,     0.81081,     0.81181,     0.81281,     0.81381,     0.81481,     0.81582,\n",
       "           0.81682,     0.81782,     0.81882,     0.81982,     0.82082,     0.82182,     0.82282,     0.82382,     0.82482,     0.82583,     0.82683,     0.82783,     0.82883,     0.82983,     0.83083,     0.83183,     0.83283,     0.83383,     0.83483,     0.83584,     0.83684,     0.83784,     0.83884,     0.83984,\n",
       "           0.84084,     0.84184,     0.84284,     0.84384,     0.84484,     0.84585,     0.84685,     0.84785,     0.84885,     0.84985,     0.85085,     0.85185,     0.85285,     0.85385,     0.85485,     0.85586,     0.85686,     0.85786,     0.85886,     0.85986,     0.86086,     0.86186,     0.86286,     0.86386,\n",
       "           0.86486,     0.86587,     0.86687,     0.86787,     0.86887,     0.86987,     0.87087,     0.87187,     0.87287,     0.87387,     0.87487,     0.87588,     0.87688,     0.87788,     0.87888,     0.87988,     0.88088,     0.88188,     0.88288,     0.88388,     0.88488,     0.88589,     0.88689,     0.88789,\n",
       "           0.88889,     0.88989,     0.89089,     0.89189,     0.89289,     0.89389,     0.89489,      0.8959,      0.8969,      0.8979,      0.8989,      0.8999,      0.9009,      0.9019,      0.9029,      0.9039,      0.9049,     0.90591,     0.90691,     0.90791,     0.90891,     0.90991,     0.91091,     0.91191,\n",
       "           0.91291,     0.91391,     0.91491,     0.91592,     0.91692,     0.91792,     0.91892,     0.91992,     0.92092,     0.92192,     0.92292,     0.92392,     0.92492,     0.92593,     0.92693,     0.92793,     0.92893,     0.92993,     0.93093,     0.93193,     0.93293,     0.93393,     0.93493,     0.93594,\n",
       "           0.93694,     0.93794,     0.93894,     0.93994,     0.94094,     0.94194,     0.94294,     0.94394,     0.94494,     0.94595,     0.94695,     0.94795,     0.94895,     0.94995,     0.95095,     0.95195,     0.95295,     0.95395,     0.95495,     0.95596,     0.95696,     0.95796,     0.95896,     0.95996,\n",
       "           0.96096,     0.96196,     0.96296,     0.96396,     0.96496,     0.96597,     0.96697,     0.96797,     0.96897,     0.96997,     0.97097,     0.97197,     0.97297,     0.97397,     0.97497,     0.97598,     0.97698,     0.97798,     0.97898,     0.97998,     0.98098,     0.98198,     0.98298,     0.98398,\n",
       "           0.98498,     0.98599,     0.98699,     0.98799,     0.98899,     0.98999,     0.99099,     0.99199,     0.99299,     0.99399,     0.99499,       0.996,       0.997,       0.998,       0.999,           1]), array([[     0.8722,      0.8722,     0.86249,     0.85449,     0.84637,     0.83947,     0.83336,     0.82671,     0.82182,     0.81608,     0.81102,     0.80558,     0.80033,     0.79544,     0.79111,     0.78671,     0.78281,     0.77951,     0.77542,     0.77139,     0.76858,     0.76522,     0.76211,\n",
       "            0.75966,     0.75618,     0.75345,     0.75002,     0.74715,     0.74446,      0.7422,     0.74006,     0.73744,     0.73476,     0.73267,     0.73041,     0.72822,     0.72571,     0.72388,     0.72101,       0.719,     0.71692,     0.71442,     0.71265,     0.71039,     0.70855,     0.70605,\n",
       "            0.70367,     0.70208,     0.70068,     0.69903,     0.69677,     0.69494,     0.69359,     0.69195,     0.69011,     0.68822,     0.68663,     0.68486,     0.68315,     0.68175,     0.67955,     0.67809,     0.67644,     0.67448,      0.6732,     0.67198,     0.67039,     0.66893,     0.66734,\n",
       "            0.66599,     0.66483,     0.66367,     0.66234,     0.66099,     0.65964,       0.658,     0.65696,     0.65568,     0.65427,     0.65238,      0.6514,     0.65067,     0.64908,     0.64755,     0.64609,     0.64462,     0.64371,     0.64249,     0.64218,     0.64042,     0.63901,     0.63809,\n",
       "             0.6373,     0.63595,     0.63473,     0.63369,     0.63253,     0.63143,     0.63034,     0.62893,     0.62771,     0.62661,     0.62563,     0.62466,      0.6238,     0.62252,      0.6216,      0.6202,     0.61977,     0.61873,      0.6177,      0.6169,     0.61617,     0.61531,     0.61422,\n",
       "            0.61318,     0.61183,      0.6111,     0.60964,     0.60872,     0.60719,     0.60603,     0.60524,     0.60432,     0.60347,     0.60243,       0.602,     0.60121,     0.59974,     0.59914,     0.59736,     0.59647,     0.59486,     0.59419,     0.59337,      0.5926,     0.59138,     0.59052,\n",
       "            0.58936,     0.58875,     0.58765,     0.58698,     0.58546,      0.5843,     0.58326,     0.58204,     0.58111,     0.58027,     0.57972,     0.57874,     0.57788,     0.57697,     0.57611,     0.57556,     0.57499,     0.57395,     0.57282,     0.57183,     0.57129,     0.57025,     0.56952,\n",
       "            0.56921,      0.5683,     0.56775,     0.56677,      0.5661,     0.56524,     0.56451,     0.56321,      0.5625,     0.56164,     0.56103,     0.56005,     0.55957,     0.55859,     0.55773,     0.55682,     0.55639,     0.55511,     0.55419,     0.55334,     0.55309,      0.5518,     0.55071,\n",
       "            0.54998,     0.54888,     0.54784,     0.54686,     0.54646,     0.54564,     0.54393,     0.54369,     0.54277,     0.54149,     0.54106,     0.53992,     0.53887,     0.53844,     0.53673,       0.536,     0.53459,     0.53398,     0.53343,     0.53294,     0.53233,     0.53142,     0.53099,\n",
       "            0.53007,      0.5291,     0.52842,     0.52745,     0.52702,     0.52571,     0.52525,     0.52433,     0.52384,     0.52287,      0.5224,     0.52097,     0.52036,     0.51965,     0.51896,     0.51841,      0.5178,     0.51697,     0.51643,     0.51564,     0.51481,     0.51328,      0.5128,\n",
       "            0.51206,     0.51157,     0.51102,     0.51004,      0.5098,      0.5087,     0.50802,     0.50717,     0.50632,     0.50589,     0.50498,     0.50458,     0.50369,     0.50327,      0.5026,     0.50143,     0.50101,     0.50058,     0.49942,     0.49869,     0.49771,     0.49698,     0.49633,\n",
       "            0.49527,      0.4946,     0.49374,     0.49266,     0.49216,     0.49155,     0.49054,     0.49022,     0.48928,     0.48873,     0.48794,     0.48733,     0.48617,     0.48551,     0.48472,     0.48342,     0.48263,     0.48226,     0.48116,     0.48049,     0.47994,     0.47929,     0.47854,\n",
       "            0.47793,     0.47721,     0.47646,     0.47547,     0.47465,     0.47396,     0.47255,     0.47194,     0.47164,      0.4711,     0.47023,     0.46938,     0.46873,     0.46803,     0.46694,     0.46624,     0.46565,     0.46498,     0.46358,     0.46266,     0.46183,     0.46138,     0.46059,\n",
       "            0.45934,     0.45829,     0.45784,     0.45742,     0.45649,     0.45592,     0.45549,     0.45497,     0.45399,     0.45283,      0.4524,     0.45188,     0.45144,     0.45008,     0.44959,     0.44898,     0.44816,     0.44748,     0.44691,     0.44599,     0.44506,     0.44444,     0.44343,\n",
       "            0.44306,     0.44214,     0.44117,     0.44056,      0.4401,     0.43952,     0.43909,      0.4386,     0.43732,     0.43683,     0.43626,     0.43555,     0.43483,     0.43397,     0.43292,     0.43189,     0.43114,      0.4303,     0.42993,     0.42963,     0.42878,     0.42749,     0.42712,\n",
       "            0.42662,     0.42606,     0.42554,     0.42493,      0.4247,     0.42303,      0.4223,     0.42175,     0.42118,     0.42047,     0.41955,      0.4187,     0.41839,     0.41803,     0.41723,     0.41595,      0.4152,     0.41418,     0.41336,      0.4128,       0.412,     0.41113,     0.41045,\n",
       "             0.4096,     0.40874,     0.40751,     0.40685,     0.40612,     0.40566,     0.40484,     0.40416,     0.40349,     0.40258,     0.40221,     0.40184,     0.40062,     0.40006,      0.3995,     0.39889,     0.39822,     0.39769,     0.39698,     0.39637,     0.39586,     0.39557,     0.39433,\n",
       "             0.3939,     0.39323,      0.3925,     0.39188,     0.39156,      0.3911,     0.39055,     0.39003,     0.38954,     0.38872,     0.38812,     0.38737,     0.38665,     0.38585,       0.385,     0.38426,     0.38279,      0.3823,     0.38169,     0.38082,     0.38021,     0.37942,     0.37886,\n",
       "            0.37803,     0.37748,     0.37659,     0.37553,     0.37506,     0.37463,     0.37418,     0.37377,     0.37303,     0.37137,     0.37058,     0.37014,     0.36954,     0.36904,     0.36825,     0.36764,     0.36741,     0.36643,     0.36586,     0.36482,     0.36409,     0.36319,     0.36248,\n",
       "            0.36132,     0.36032,     0.35936,     0.35869,     0.35789,     0.35727,     0.35624,     0.35538,     0.35489,     0.35447,     0.35379,     0.35306,     0.35208,     0.35086,     0.35037,     0.34964,     0.34847,     0.34761,     0.34699,     0.34607,     0.34521,      0.3443,     0.34329,\n",
       "            0.34274,     0.34215,     0.34139,     0.34087,     0.33993,     0.33903,     0.33846,     0.33769,     0.33732,     0.33628,     0.33567,     0.33457,     0.33358,     0.33255,     0.33194,     0.33114,     0.33022,     0.32973,     0.32882,     0.32766,     0.32619,     0.32545,     0.32435,\n",
       "            0.32374,     0.32253,     0.32178,     0.32063,     0.31989,     0.31915,     0.31824,      0.3175,     0.31683,     0.31591,     0.31518,     0.31385,     0.31279,     0.31188,     0.31098,     0.31013,     0.30964,     0.30882,     0.30802,     0.30741,      0.3068,     0.30594,     0.30533,\n",
       "            0.30445,     0.30341,     0.30288,     0.30221,     0.30146,     0.30074,     0.29982,     0.29903,     0.29805,     0.29738,     0.29676,     0.29536,     0.29462,     0.29377,      0.2923,     0.29144,      0.2904,     0.28973,       0.289,     0.28863,     0.28795,     0.28704,      0.2863,\n",
       "            0.28558,     0.28461,     0.28373,     0.28239,     0.28174,     0.28094,     0.28067,     0.27976,     0.27881,     0.27789,     0.27719,      0.2763,     0.27566,     0.27492,     0.27431,     0.27337,      0.2729,     0.27248,      0.2716,     0.27058,     0.26978,     0.26893,     0.26783,\n",
       "            0.26722,     0.26642,     0.26556,     0.26501,     0.26446,     0.26309,     0.26247,     0.26186,     0.26131,     0.26018,     0.25933,     0.25878,     0.25727,      0.2563,     0.25544,      0.2544,     0.25385,     0.25342,     0.25269,     0.25183,     0.25085,     0.24975,     0.24932,\n",
       "             0.2484,     0.24743,     0.24675,     0.24602,     0.24547,     0.24461,     0.24376,     0.24308,     0.24232,     0.24115,     0.23981,     0.23908,     0.23828,     0.23748,     0.23657,     0.23565,     0.23467,     0.23375,     0.23302,     0.23229,     0.23125,     0.22963,     0.22886,\n",
       "            0.22831,     0.22773,     0.22699,     0.22617,     0.22553,     0.22436,     0.22308,     0.22214,     0.22118,     0.21981,     0.21871,     0.21816,     0.21773,     0.21712,     0.21644,     0.21546,     0.21424,     0.21363,     0.21305,     0.21225,     0.21103,     0.21029,     0.20907,\n",
       "            0.20865,     0.20767,     0.20699,     0.20643,     0.20565,     0.20488,     0.20421,     0.20341,     0.20213,     0.20132,     0.20072,     0.19953,     0.19867,     0.19818,     0.19745,     0.19629,     0.19577,     0.19515,     0.19454,     0.19295,     0.19192,     0.19155,     0.19081,\n",
       "            0.18998,     0.18931,     0.18864,      0.1879,     0.18729,     0.18561,     0.18476,     0.18414,     0.18349,     0.18257,     0.18203,     0.18148,     0.18087,     0.18019,      0.1787,     0.17796,     0.17729,     0.17637,     0.17524,      0.1742,     0.17347,     0.17279,     0.17199,\n",
       "            0.17177,     0.17091,     0.17038,     0.16888,     0.16802,     0.16686,     0.16586,     0.16535,      0.1648,     0.16395,      0.1624,     0.16166,     0.16117,     0.15937,     0.15876,     0.15796,     0.15747,     0.15701,     0.15634,     0.15579,     0.15447,     0.15374,     0.15314,\n",
       "            0.15265,     0.15175,     0.15132,     0.14958,     0.14878,     0.14815,     0.14735,     0.14631,     0.14441,     0.14365,     0.14197,     0.14148,     0.14056,     0.14004,     0.13937,     0.13817,      0.1375,     0.13659,     0.13588,     0.13521,     0.13427,     0.13334,     0.13246,\n",
       "            0.13172,     0.13043,     0.12906,     0.12836,     0.12719,     0.12646,     0.12466,     0.12392,     0.12243,     0.12144,     0.12056,      0.1197,     0.11869,     0.11819,     0.11726,      0.1157,     0.11509,     0.11433,     0.11377,     0.11233,     0.11188,     0.11156,     0.11077,\n",
       "            0.10915,     0.10863,     0.10784,     0.10658,     0.10533,     0.10478,     0.10395,      0.1034,     0.10239,     0.10226,     0.10132,    0.099701,    0.099076,    0.098263,    0.097071,    0.096319,    0.095755,    0.094624,     0.09434,    0.093729,    0.092518,    0.091412,    0.090281,\n",
       "           0.089333,    0.088172,     0.08744,    0.086581,    0.086024,    0.084807,     0.08457,    0.083918,     0.08297,    0.082589,    0.081258,    0.080812,     0.07982,     0.07875,    0.077994,    0.076915,    0.076156,    0.075416,    0.074502,    0.073886,    0.072175,    0.070951,    0.070187,\n",
       "           0.069174,    0.068597,    0.067641,    0.067006,    0.065742,    0.065049,    0.063965,    0.063153,    0.062005,    0.061135,    0.060289,    0.059849,    0.059123,    0.058931,    0.058323,    0.057309,    0.056302,    0.055291,    0.054098,    0.053365,    0.052748,    0.051707,    0.050948,\n",
       "           0.049869,    0.049022,    0.048337,    0.047662,    0.047033,    0.046374,    0.045534,    0.044597,    0.043617,    0.042476,    0.042206,    0.040982,    0.040334,    0.039632,    0.039202,    0.037857,    0.037242,    0.036506,    0.035648,    0.035439,    0.034665,    0.033807,    0.032595,\n",
       "           0.032152,     0.03105,    0.030192,    0.029395,    0.028893,    0.028107,    0.027677,    0.026819,    0.025961,    0.025252,    0.024917,    0.023753,    0.022895,    0.022221,    0.021485,    0.020871,    0.020211,    0.019635,    0.019519,     0.01921,    0.018597,    0.017983,    0.017125,\n",
       "           0.016695,     0.01602,    0.015223,    0.014976,    0.014606,    0.013809,    0.013257,    0.012887,    0.012457,    0.011416,    0.010741,    0.010127,   0.0093306,   0.0086558,   0.0081733,    0.007917,   0.0077308,   0.0073003,   0.0068698,   0.0064393,   0.0059478,   0.0054562,   0.0052089,\n",
       "          0.0049538,   0.0045922,   0.0042838,   0.0040638,   0.0039113,   0.0034501,   0.0033265,   0.0031694,   0.0029221,   0.0026748,   0.0024886,   0.0022503,   0.0021161,   0.0020335,   0.0018024,   0.0017406,   0.0013712,  0.00090382,  0.00086209,  0.00074206,  0.00066409,  0.00064323,  0.00062237,\n",
       "         0.00055597,  0.00049017,  0.00036667,  0.00030439,  0.00026266,  0.00023648,  0.00022257,  0.00020866,  0.00019475,  0.00017791,  0.00014662,  0.00011965,  0.00010827,   9.689e-05,   8.551e-05,   7.413e-05,   6.275e-05,           0,           0,           0,           0,           0,           0,\n",
       "                  0,           0,           0,           0,           0,           0,           0,           0,           0,           0,           0,           0,           0,           0,           0,           0,           0,           0,           0,           0,           0,           0,           0,\n",
       "                  0,           0,           0,           0,           0,           0,           0,           0,           0,           0,           0,           0,           0,           0,           0,           0,           0,           0,           0,           0,           0,           0,           0,\n",
       "                  0,           0,           0,           0,           0,           0,           0,           0,           0,           0,           0,           0,           0,           0,           0,           0,           0,           0,           0,           0,           0,           0,           0,\n",
       "                  0,           0,           0,           0,           0,           0,           0,           0,           0,           0,           0]]), 'Confidence', 'Recall']]\n",
       "fitness: 0.33032509095194534\n",
       "keys: ['metrics/precision(B)', 'metrics/recall(B)', 'metrics/mAP50(B)', 'metrics/mAP50-95(B)']\n",
       "maps: array([    0.30526,     0.30526,     0.30526])\n",
       "names: {0: 'smoke', 1: 'fire', 2: 'person'}\n",
       "plot: True\n",
       "results_dict: {'metrics/precision(B)': 0.6446214196419696, 'metrics/recall(B)': 0.5071655889876565, 'metrics/mAP50(B)': 0.5559100360001877, 'metrics/mAP50-95(B)': 0.3052600970576962, 'fitness': 0.33032509095194534}\n",
       "save_dir: WindowsPath('runs/detect/train3')\n",
       "speed: {'preprocess': 0.19691258668899536, 'inference': 1.6785020232200623, 'loss': 0.0, 'postprocess': 1.1013458371162415}\n",
       "task: 'detect'"
      ]
     },
     "execution_count": 6,
     "metadata": {},
     "output_type": "execute_result"
    }
   ],
   "source": [
    "model.train(\n",
    "    data='dataset.yaml',  # Update with your dataset YAML file\n",
    "    epochs=50,\n",
    "    imgsz=640,\n",
    "    batch=16,\n",
    "    workers=4,\n",
    "    device='cuda'  # Use GPU if available\n",
    ")"
   ]
  },
  {
   "cell_type": "code",
   "execution_count": 7,
   "metadata": {},
   "outputs": [
    {
     "name": "stdout",
     "output_type": "stream",
     "text": [
      "noel is gay\n"
     ]
    }
   ],
   "source": [
    "print(\"noel is gay\")"
   ]
  },
  {
   "cell_type": "code",
   "execution_count": 9,
   "metadata": {},
   "outputs": [
    {
     "name": "stdout",
     "output_type": "stream",
     "text": [
      "Model saved\n"
     ]
    }
   ],
   "source": [
    "model_path = \"C:/Users/vimal/OneDrive/Documents/Uni/6th_Sem/CV/Fire-and-Smoke-Detection-WebApp/saved_model.pt\"\n",
    "# model.export(format=\"torchscript\", dynamic=True)  # Optional: Export in different formats\n",
    "model.save(\"Smoke_Person.pt\")  # Save the model\n",
    "print(f\"Model saved\")"
   ]
  },
  {
   "cell_type": "code",
   "execution_count": null,
   "metadata": {},
   "outputs": [],
   "source": []
  }
 ],
 "metadata": {
  "kernelspec": {
   "display_name": "base",
   "language": "python",
   "name": "python3"
  },
  "language_info": {
   "codemirror_mode": {
    "name": "ipython",
    "version": 3
   },
   "file_extension": ".py",
   "mimetype": "text/x-python",
   "name": "python",
   "nbconvert_exporter": "python",
   "pygments_lexer": "ipython3",
   "version": "3.12.3"
  }
 },
 "nbformat": 4,
 "nbformat_minor": 2
}
